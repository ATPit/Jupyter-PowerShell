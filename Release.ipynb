{
 "cells": [
  {
   "cell_type": "code",
   "execution_count": 1,
   "metadata": {},
   "outputs": [
    {
     "data": {
      "application/json": {
       "output": [
        {
         "Drive": {
          "Credential": {
           "Password": "",
           "UserName": null
          },
          "CurrentLocation": "Users\\Joel\\Projects\\Jupyter\\Jupyter-PowerShell",
          "Description": "Crucial",
          "DisplayRoot": null,
          "MaximumSize": null,
          "Name": "C",
          "Provider": {
           "Capabilities": 52,
           "Description": "",
           "Drives": [
            {
             "Credential": {
              "Password": "",
              "UserName": null
             },
             "CurrentLocation": "",
             "Description": "Samsung",
             "DisplayRoot": null,
             "MaximumSize": null,
             "Name": "D",
             "Root": "D:\\"
            },
            {
             "Credential": {
              "Password": "",
              "UserName": null
             },
             "CurrentLocation": "",
             "Description": "SeaGates",
             "DisplayRoot": null,
             "MaximumSize": null,
             "Name": "E",
             "Root": "E:\\"
            },
            {
             "Credential": {
              "Password": "",
              "UserName": null
             },
             "CurrentLocation": "",
             "Description": "Seagate Expansion Drive",
             "DisplayRoot": null,
             "MaximumSize": null,
             "Name": "L",
             "Root": "L:\\"
            },
            {
             "Credential": {
              "Password": "",
              "UserName": null
             },
             "CurrentLocation": "",
             "Description": "",
             "DisplayRoot": null,
             "MaximumSize": null,
             "Name": "F",
             "Root": "F:\\"
            },
            {
             "Credential": {
              "Password": "",
              "UserName": null
             },
             "CurrentLocation": "",
             "Description": "",
             "DisplayRoot": null,
             "MaximumSize": null,
             "Name": "G",
             "Root": "G:\\"
            },
            {
             "Credential": {
              "Password": "",
              "UserName": null
             },
             "CurrentLocation": "",
             "Description": "",
             "DisplayRoot": null,
             "MaximumSize": null,
             "Name": "H",
             "Root": "H:\\"
            },
            {
             "Credential": {
              "Password": "",
              "UserName": null
             },
             "CurrentLocation": "",
             "Description": "",
             "DisplayRoot": null,
             "MaximumSize": null,
             "Name": "I",
             "Root": "I:\\"
            },
            {
             "Credential": {
              "Password": "",
              "UserName": null
             },
             "CurrentLocation": "",
             "Description": "",
             "DisplayRoot": null,
             "MaximumSize": null,
             "Name": "J",
             "Root": "J:\\"
            },
            {
             "Credential": {
              "Password": "",
              "UserName": null
             },
             "CurrentLocation": "",
             "Description": "",
             "DisplayRoot": null,
             "MaximumSize": null,
             "Name": "K",
             "Root": "K:\\"
            }
           ],
           "HelpFile": "System.Management.Automation.dll-Help.xml",
           "Home": "C:\\Users\\Joel",
           "ImplementingType": "Microsoft.PowerShell.Commands.FileSystemProvider, System.Management.Automation, Version=3.0.0.0, Culture=neutral, PublicKeyToken=31bf3856ad364e35",
           "Module": null,
           "ModuleName": "Microsoft.PowerShell.Core",
           "Name": "FileSystem",
           "PSSnapIn": {
            "ApplicationBase": "C:\\Windows\\System32\\WindowsPowerShell\\v1.0",
            "AssemblyName": "System.Management.Automation, Version=3.0.0.0, Culture=neutral, PublicKeyToken=31bf3856ad364e35, ProcessorArchitecture=MSIL",
            "Description": "This Windows PowerShell snap-in contains cmdlets used to manage components of Windows PowerShell.",
            "Formats": [
             "Certificate.format.ps1xml",
             "DotNetTypes.format.ps1xml",
             "FileSystem.format.ps1xml",
             "Help.format.ps1xml",
             "HelpV3.format.ps1xml",
             "PowerShellCore.format.ps1xml",
             "PowerShellTrace.format.ps1xml",
             "Registry.format.ps1xml"
            ],
            "IsDefault": true,
            "LogPipelineExecutionDetails": false,
            "ModuleName": "System.Management.Automation",
            "Name": "Microsoft.PowerShell.Core",
            "PSVersion": {
             "Build": 16215,
             "Major": 5,
             "MajorRevision": 0,
             "Minor": 1,
             "MinorRevision": 1000,
             "Revision": 1000
            },
            "Types": [
             "types.ps1xml",
             "typesv3.ps1xml"
            ],
            "Vendor": "Microsoft Corporation",
            "Version": {
             "Build": 0,
             "Major": 3,
             "MajorRevision": 0,
             "Minor": 0,
             "MinorRevision": 0,
             "Revision": 0
            }
           }
          },
          "Root": "C:\\"
         },
         "Path": "C:\\Users\\Joel\\Projects\\Jupyter\\Jupyter-PowerShell",
         "Provider": {
          "Capabilities": 52,
          "Description": "",
          "Drives": [
           {
            "Credential": {
             "Password": "",
             "UserName": null
            },
            "CurrentLocation": "Users\\Joel\\Projects\\Jupyter\\Jupyter-PowerShell",
            "Description": "Crucial",
            "DisplayRoot": null,
            "MaximumSize": null,
            "Name": "C",
            "Root": "C:\\"
           },
           {
            "Credential": {
             "Password": "",
             "UserName": null
            },
            "CurrentLocation": "",
            "Description": "Samsung",
            "DisplayRoot": null,
            "MaximumSize": null,
            "Name": "D",
            "Root": "D:\\"
           },
           {
            "Credential": {
             "Password": "",
             "UserName": null
            },
            "CurrentLocation": "",
            "Description": "SeaGates",
            "DisplayRoot": null,
            "MaximumSize": null,
            "Name": "E",
            "Root": "E:\\"
           },
           {
            "Credential": {
             "Password": "",
             "UserName": null
            },
            "CurrentLocation": "",
            "Description": "Seagate Expansion Drive",
            "DisplayRoot": null,
            "MaximumSize": null,
            "Name": "L",
            "Root": "L:\\"
           },
           {
            "Credential": {
             "Password": "",
             "UserName": null
            },
            "CurrentLocation": "",
            "Description": "",
            "DisplayRoot": null,
            "MaximumSize": null,
            "Name": "F",
            "Root": "F:\\"
           },
           {
            "Credential": {
             "Password": "",
             "UserName": null
            },
            "CurrentLocation": "",
            "Description": "",
            "DisplayRoot": null,
            "MaximumSize": null,
            "Name": "G",
            "Root": "G:\\"
           },
           {
            "Credential": {
             "Password": "",
             "UserName": null
            },
            "CurrentLocation": "",
            "Description": "",
            "DisplayRoot": null,
            "MaximumSize": null,
            "Name": "H",
            "Root": "H:\\"
           },
           {
            "Credential": {
             "Password": "",
             "UserName": null
            },
            "CurrentLocation": "",
            "Description": "",
            "DisplayRoot": null,
            "MaximumSize": null,
            "Name": "I",
            "Root": "I:\\"
           },
           {
            "Credential": {
             "Password": "",
             "UserName": null
            },
            "CurrentLocation": "",
            "Description": "",
            "DisplayRoot": null,
            "MaximumSize": null,
            "Name": "J",
            "Root": "J:\\"
           },
           {
            "Credential": {
             "Password": "",
             "UserName": null
            },
            "CurrentLocation": "",
            "Description": "",
            "DisplayRoot": null,
            "MaximumSize": null,
            "Name": "K",
            "Root": "K:\\"
           }
          ],
          "HelpFile": "System.Management.Automation.dll-Help.xml",
          "Home": "C:\\Users\\Joel",
          "ImplementingType": "Microsoft.PowerShell.Commands.FileSystemProvider, System.Management.Automation, Version=3.0.0.0, Culture=neutral, PublicKeyToken=31bf3856ad364e35",
          "Module": null,
          "ModuleName": "Microsoft.PowerShell.Core",
          "Name": "FileSystem",
          "PSSnapIn": {
           "ApplicationBase": "C:\\Windows\\System32\\WindowsPowerShell\\v1.0",
           "AssemblyName": "System.Management.Automation, Version=3.0.0.0, Culture=neutral, PublicKeyToken=31bf3856ad364e35, ProcessorArchitecture=MSIL",
           "Description": "This Windows PowerShell snap-in contains cmdlets used to manage components of Windows PowerShell.",
           "Formats": [
            "Certificate.format.ps1xml",
            "DotNetTypes.format.ps1xml",
            "FileSystem.format.ps1xml",
            "Help.format.ps1xml",
            "HelpV3.format.ps1xml",
            "PowerShellCore.format.ps1xml",
            "PowerShellTrace.format.ps1xml",
            "Registry.format.ps1xml"
           ],
           "IsDefault": true,
           "LogPipelineExecutionDetails": false,
           "ModuleName": "System.Management.Automation",
           "Name": "Microsoft.PowerShell.Core",
           "PSVersion": {
            "Build": 16215,
            "Major": 5,
            "MajorRevision": 0,
            "Minor": 1,
            "MinorRevision": 1000,
            "Revision": 1000
           },
           "Types": [
            "types.ps1xml",
            "typesv3.ps1xml"
           ],
           "Vendor": "Microsoft Corporation",
           "Version": {
            "Build": 0,
            "Major": 3,
            "MajorRevision": 0,
            "Minor": 0,
            "MinorRevision": 0,
            "Revision": 0
           }
          }
         },
         "ProviderPath": "C:\\Users\\Joel\\Projects\\Jupyter\\Jupyter-PowerShell"
        }
       ]
      },
      "text/plain": [
       "Path                                             \r\n",
       "----                                             \r\n",
       "C:\\Users\\Joel\\Projects\\Jupyter\\Jupyter-PowerShell"
      ]
     },
     "execution_count": 1,
     "metadata": {},
     "output_type": "execute_result"
    }
   ],
   "source": [
    "pwd"
   ]
  },
  {
   "cell_type": "markdown",
   "metadata": {},
   "source": [
    "## To build the project\n",
    "\n",
    "We really just need to `dotnet restore` and `dotnet build` ...\n",
    "\n",
    "But in order to ship something, we need to `publish` it:"
   ]
  },
  {
   "cell_type": "code",
   "execution_count": 1,
   "metadata": {},
   "outputs": [
    {
     "data": {
      "application/json": {
       "output": [
        "Microsoft (R) Build Engine version 15.3.117.23532",
        "Copyright (C) Microsoft Corporation. All rights reserved.",
        "",
        "  Jupyter -> C:\\Users\\Joel\\Projects\\Jupyter\\Jupyter-PowerShell\\Output\\Release\\netcoreapp2.0\\Jupyter.dll",
        "  Jupyter -> C:\\Users\\Joel\\Projects\\Jupyter\\Jupyter-PowerShell\\Output\\Release\\netcoreapp2.0\\publish\\",
        "  PowerShell-Kernel -> C:\\Users\\Joel\\Projects\\Jupyter\\Jupyter-PowerShell\\Output\\Release\\netcoreapp2.0\\PowerShell-Kernel.dll",
        "  PowerShell-Kernel -> C:\\Users\\Joel\\Projects\\Jupyter\\Jupyter-PowerShell\\Output\\Release\\netcoreapp2.0\\publish\\",
        "Microsoft (R) Build Engine version 15.3.117.23532",
        "Copyright (C) Microsoft Corporation. All rights reserved.",
        "",
        "  Jupyter -> C:\\Users\\Joel\\Projects\\Jupyter\\Jupyter-PowerShell\\Output\\Release\\net462\\Jupyter.dll",
        "  Jupyter -> C:\\Users\\Joel\\Projects\\Jupyter\\Jupyter-PowerShell\\Output\\Release\\net462\\publish\\",
        "  PowerShell-Kernel -> C:\\Users\\Joel\\Projects\\Jupyter\\Jupyter-PowerShell\\Output\\Release\\net462\\PowerShell-Kernel.exe",
        "  PowerShell-Kernel -> C:\\Users\\Joel\\Projects\\Jupyter\\Jupyter-PowerShell\\Output\\Release\\net462\\publish\\"
       ]
      },
      "text/plain": [
       "Microsoft (R) Build Engine version 15.3.117.23532\r\n",
       "Copyright (C) Microsoft Corporation. All rights reserved.\r\n",
       "\r\n",
       "  Jupyter -> C:\\Users\\Joel\\Projects\\Jupyter\\Jupyter-PowerShell\\Output\\Release\\netcoreapp2.0\\Jupyter.dll\r\n",
       "  Jupyter -> C:\\Users\\Joel\\Projects\\Jupyter\\Jupyter-PowerShell\\Output\\Release\\netcoreapp2.0\\publish\\\r\n",
       "  PowerShell-Kernel -> C:\\Users\\Joel\\Projects\\Jupyter\\Jupyter-PowerShell\\Output\\Release\\netcoreapp2.0\\PowerShell-Kernel.dll\r\n",
       "  PowerShell-Kernel -> C:\\Users\\Joel\\Projects\\Jupyter\\Jupyter-PowerShell\\Output\\Release\\netcoreapp2.0\\publish\\\r\n",
       "Microsoft (R) Build Engine version 15.3.117.23532\r\n",
       "Copyright (C) Microsoft Corporation. All rights reserved.\r\n",
       "\r\n",
       "  Jupyter -> C:\\Users\\Joel\\Projects\\Jupyter\\Jupyter-PowerShell\\Output\\Release\\net462\\Jupyter.dll\r\n",
       "  Jupyter -> C:\\Users\\Joel\\Projects\\Jupyter\\Jupyter-PowerShell\\Output\\Release\\net462\\publish\\\r\n",
       "  PowerShell-Kernel -> C:\\Users\\Joel\\Projects\\Jupyter\\Jupyter-PowerShell\\Output\\Release\\net462\\PowerShell-Kernel.exe\r\n",
       "  PowerShell-Kernel -> C:\\Users\\Joel\\Projects\\Jupyter\\Jupyter-PowerShell\\Output\\Release\\net462\\publish\\"
      ]
     },
     "execution_count": 1,
     "metadata": {},
     "output_type": "execute_result"
    }
   ],
   "source": [
    "dotnet publish -f netcoreapp2.0 -c Release\n",
    "dotnet publish -f net462 -c Release"
   ]
  },
  {
   "cell_type": "code",
   "execution_count": 2,
   "metadata": {},
   "outputs": [],
   "source": [
    "mkdir Output\\Release\\Jupyter-PowerShell -force | sl\n",
    "move-item ..\\net462\\publish PowerShell-Full\n",
    "move-item ..\\netcoreapp2.0\\publish PowerShell-Core\n",
    "copy-item ..\\..\\..\\Install.ps1 .\n",
    "cd ..\n",
    "Microsoft.PowerShell.Archive\\Compress-Archive Jupyter-PowerShell Jupyter-PowerShell.zip"
   ]
  },
  {
   "cell_type": "code",
   "execution_count": 3,
   "metadata": {},
   "outputs": [
    {
     "data": {
      "application/json": {
       "output": [
        {
         "FullPath": "C:\\Users\\Joel\\Projects\\Jupyter\\Jupyter-PowerShell\\Output\\Release\\Jupyter-PowerShell",
         "OriginalPath": "Jupyter-PowerShell"
        },
        {
         "FullPath": "C:\\Users\\Joel\\Projects\\Jupyter\\Jupyter-PowerShell\\Output\\Release\\net462",
         "OriginalPath": "net462"
        },
        {
         "FullPath": "C:\\Users\\Joel\\Projects\\Jupyter\\Jupyter-PowerShell\\Output\\Release\\netcoreapp2.0",
         "OriginalPath": "netcoreapp2.0"
        },
        {
         "FullPath": "C:\\Users\\Joel\\Projects\\Jupyter\\Jupyter-PowerShell\\Output\\Release\\Jupyter-PowerShell.zip",
         "OriginalPath": "Jupyter-PowerShell.zip"
        }
       ]
      },
      "text/plain": [
       "Directory: C:\\Users\\Joel\\Projects\\Jupyter\\Jupyter-PowerShell\\Output\\Release\r\n",
       "\r\n",
       "\r\n",
       "Mode                LastWriteTime         Length Name                                                                   \r\n",
       "----                -------------         ------ ----                                                                   \r\n",
       "d-----        6/29/2017  10:36 PM                Jupyter-PowerShell                                                     \r\n",
       "d-----        6/29/2017  10:36 PM                net462                                                                 \r\n",
       "d-----        6/29/2017  10:36 PM                netcoreapp2.0                                                          \r\n",
       "-a----        6/29/2017  10:36 PM       14567990 Jupyter-PowerShell.zip"
      ]
     },
     "execution_count": 3,
     "metadata": {},
     "output_type": "execute_result"
    }
   ],
   "source": [
    "ls"
   ]
  }
 ],
 "metadata": {
  "anaconda-cloud": {},
  "kernelspec": {
   "display_name": "PowerShell (Full)",
   "language": "PowerShell",
   "name": "powershell-full"
  },
  "language_info": {
   "codemirror_mode": "powershell",
   "file_extension": ".ps1",
   "mimetype": "text/powershell",
   "name": "PowerShell",
   "nbconvert_exporter": null,
   "pygments_lexer": "powershell",
   "version": "5.0"
  }
 },
 "nbformat": 4,
 "nbformat_minor": 1
}
