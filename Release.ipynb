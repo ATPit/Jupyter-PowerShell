{
 "cells": [
  {
   "cell_type": "code",
   "execution_count": 1,
   "metadata": {},
   "outputs": [
    {
     "data": {
      "text/plain": [
       "CommandType     Name                                               Version    Source                                    \r\n",
       "-----------     ----                                               -------    ------                                    \r\n",
       "Cmdlet          Write-Jupyter"
      ]
     },
     "execution_count": 1,
     "metadata": {},
     "output_type": "execute_result"
    }
   ],
   "source": [
    "Get-Command Write-J*"
   ]
  },
  {
   "cell_type": "code",
   "execution_count": 8,
   "metadata": {},
   "outputs": [
    {
     "data": {
      "text/markdown": [
       "_very_ **nice**"
      ]
     },
     "metadata": {},
     "output_type": "display_data"
    }
   ],
   "source": []
  },
  {
   "cell_type": "code",
   "execution_count": 2,
   "metadata": {
    "collapsed": true
   },
   "outputs": [],
   "source": [
    "rm C:\\Users\\Joel\\Projects\\Jupyter\\Jupyter-PowerShell\\Output\\Release\\* -recurse"
   ]
  },
  {
   "cell_type": "markdown",
   "metadata": {},
   "source": [
    "## To build the project\n",
    "\n",
    "We really just need to `dotnet restore` and `dotnet build` ...\n",
    "\n",
    "But in order to ship something, we need to `publish` it.\n",
    "\n",
    "## Increment the version\n",
    "\n",
    "I've changed the project files to use the new `--version-suffix` feature:"
   ]
  },
  {
   "cell_type": "code",
   "execution_count": 3,
   "metadata": {},
   "outputs": [
    {
     "data": {
      "application/json": {
       "output": [
        "Microsoft (R) Build Engine version 15.3.117.23532",
        "Copyright (C) Microsoft Corporation. All rights reserved.",
        "",
        "  Jupyter -> C:\\Users\\Joel\\Projects\\Jupyter\\Jupyter-PowerShell\\Output\\Release\\netcoreapp2.0\\Jupyter.dll",
        "  Jupyter -> C:\\Users\\Joel\\Projects\\Jupyter\\Jupyter-PowerShell\\Output\\Release\\netcoreapp2.0\\publish\\",
        "  PowerShell-Kernel -> C:\\Users\\Joel\\Projects\\Jupyter\\Jupyter-PowerShell\\Output\\Release\\netcoreapp2.0\\PowerShell-Kernel.dll",
        "  PowerShell-Kernel -> C:\\Users\\Joel\\Projects\\Jupyter\\Jupyter-PowerShell\\Output\\Release\\netcoreapp2.0\\publish\\",
        "Microsoft (R) Build Engine version 15.3.117.23532",
        "Copyright (C) Microsoft Corporation. All rights reserved.",
        "",
        "  Jupyter -> C:\\Users\\Joel\\Projects\\Jupyter\\Jupyter-PowerShell\\Output\\Release\\net462\\Jupyter.dll",
        "  Jupyter -> C:\\Users\\Joel\\Projects\\Jupyter\\Jupyter-PowerShell\\Output\\Release\\net462\\publish\\",
        "  PowerShell-Kernel -> C:\\Users\\Joel\\Projects\\Jupyter\\Jupyter-PowerShell\\Output\\Release\\net462\\PowerShell-Kernel.exe",
        "  PowerShell-Kernel -> C:\\Users\\Joel\\Projects\\Jupyter\\Jupyter-PowerShell\\Output\\Release\\net462\\publish\\"
       ]
      },
      "text/plain": [
       "Microsoft (R) Build Engine version 15.3.117.23532\r\n",
       "Copyright (C) Microsoft Corporation. All rights reserved.\r\n",
       "\r\n",
       "  Jupyter -> C:\\Users\\Joel\\Projects\\Jupyter\\Jupyter-PowerShell\\Output\\Release\\netcoreapp2.0\\Jupyter.dll\r\n",
       "  Jupyter -> C:\\Users\\Joel\\Projects\\Jupyter\\Jupyter-PowerShell\\Output\\Release\\netcoreapp2.0\\publish\\\r\n",
       "  PowerShell-Kernel -> C:\\Users\\Joel\\Projects\\Jupyter\\Jupyter-PowerShell\\Output\\Release\\netcoreapp2.0\\PowerShell-Kernel.dll\r\n",
       "  PowerShell-Kernel -> C:\\Users\\Joel\\Projects\\Jupyter\\Jupyter-PowerShell\\Output\\Release\\netcoreapp2.0\\publish\\\r\n",
       "Microsoft (R) Build Engine version 15.3.117.23532\r\n",
       "Copyright (C) Microsoft Corporation. All rights reserved.\r\n",
       "\r\n",
       "  Jupyter -> C:\\Users\\Joel\\Projects\\Jupyter\\Jupyter-PowerShell\\Output\\Release\\net462\\Jupyter.dll\r\n",
       "  Jupyter -> C:\\Users\\Joel\\Projects\\Jupyter\\Jupyter-PowerShell\\Output\\Release\\net462\\publish\\\r\n",
       "  PowerShell-Kernel -> C:\\Users\\Joel\\Projects\\Jupyter\\Jupyter-PowerShell\\Output\\Release\\net462\\PowerShell-Kernel.exe\r\n",
       "  PowerShell-Kernel -> C:\\Users\\Joel\\Projects\\Jupyter\\Jupyter-PowerShell\\Output\\Release\\net462\\publish\\"
      ]
     },
     "execution_count": 3,
     "metadata": {},
     "output_type": "execute_result"
    }
   ],
   "source": [
    "dotnet publish -f netcoreapp2.0 -c Release --version-suffix \"-beta-4\"\n",
    "dotnet publish -f net462 -c Release --version-suffix \"-beta-4\""
   ]
  },
  {
   "cell_type": "code",
   "execution_count": 4,
   "metadata": {},
   "outputs": [
    {
     "data": {
      "application/json": {
       "output": [
        {
         "FullPath": "C:\\Users\\Joel\\Projects\\Jupyter\\Jupyter-PowerShell\\Output\\Release\\Jupyter-PowerShell",
         "OriginalPath": "Jupyter-PowerShell"
        },
        {
         "FullPath": "C:\\Users\\Joel\\Projects\\Jupyter\\Jupyter-PowerShell\\Output\\Release\\net462",
         "OriginalPath": "net462"
        },
        {
         "FullPath": "C:\\Users\\Joel\\Projects\\Jupyter\\Jupyter-PowerShell\\Output\\Release\\netcoreapp2.0",
         "OriginalPath": "netcoreapp2.0"
        },
        {
         "FullPath": "C:\\Users\\Joel\\Projects\\Jupyter\\Jupyter-PowerShell\\Output\\Release\\Jupyter-PowerShell.zip",
         "OriginalPath": "Jupyter-PowerShell.zip"
        }
       ]
      },
      "text/plain": [
       "Directory: C:\\Users\\Joel\\Projects\\Jupyter\\Jupyter-PowerShell\\Output\\Release\r\n",
       "\r\n",
       "\r\n",
       "Mode                LastWriteTime         Length Name                                                                   \r\n",
       "----                -------------         ------ ----                                                                   \r\n",
       "d-----         7/2/2017   5:56 PM                Jupyter-PowerShell                                                     \r\n",
       "d-----         7/2/2017   5:56 PM                net462                                                                 \r\n",
       "d-----         7/2/2017   5:56 PM                netcoreapp2.0                                                          \r\n",
       "-a----         7/2/2017   5:56 PM       14567968 Jupyter-PowerShell.zip"
      ]
     },
     "execution_count": 4,
     "metadata": {},
     "output_type": "execute_result"
    }
   ],
   "source": [
    "mkdir Output\\Release\\Jupyter-PowerShell -force | convert-path | Set-Location\n",
    "move-item ..\\net462\\publish PowerShell-Full\n",
    "move-item ..\\netcoreapp2.0\\publish PowerShell-Core\n",
    "copy-item ..\\..\\..\\Install.ps1 .\n",
    "cd ..\n",
    "Microsoft.PowerShell.Archive\\Compress-Archive Jupyter-PowerShell Jupyter-PowerShell.zip\n",
    "ls"
   ]
  }
 ],
 "metadata": {
  "anaconda-cloud": {},
  "kernelspec": {
   "display_name": "PowerShell (Full)",
   "language": "PowerShell",
   "name": "powershell-full"
  },
  "language_info": {
   "codemirror_mode": "powershell",
   "file_extension": ".ps1",
   "mimetype": "text/powershell",
   "name": "PowerShell",
   "nbconvert_exporter": null,
   "pygments_lexer": "powershell",
   "version": "5.0"
  }
 },
 "nbformat": 4,
 "nbformat_minor": 1
}
