{
 "cells": [
  {
   "cell_type": "code",
   "execution_count": 4,
   "metadata": {},
   "outputs": [
    {
     "data": {
      "text/plain": [
       "Id Name            ComputerName    ComputerType    State         ConfigurationName     Availability\r\n",
       " -- ----            ------------    ------------    -----         -----------------     ------------\r\n",
       "  2 WinRM2          Entertainer     RemoteMachine   Opened        Microsoft.PowerShell     Available"
      ]
     },
     "execution_count": 4,
     "metadata": {},
     "output_type": "execute_result"
    }
   ],
   "source": [
    "New-PSSession Entertainer -Credential $(BetterCredentials\\Get-Credential MicrosoftAccount\\Jaykul@HuddledMasses.org)"
   ]
  },
  {
   "cell_type": "markdown",
   "metadata": {},
   "source": [
    "![2016-06-08_18-04-58.png](attachment:2016-06-08_18-04-58.png)"
   ]
  },
  {
   "cell_type": "code",
   "execution_count": 20,
   "metadata": {},
   "outputs": [
    {
     "data": {
      "text/plain": [
       "Directory: C:\\Users\\Joel\\Documents\\WindowsPowerShell\r\n",
       "\r\n",
       "\r\n",
       "Mode                LastWriteTime         Length Name                                PSComputerName                     \r\n",
       "----                -------------         ------ ----                                --------------                     \r\n",
       "d-----        4/29/2015   5:40 PM                DisabledModules                     Entertainer                        \r\n",
       "d-----        4/29/2015   5:40 PM                Formats                             Entertainer                        \r\n",
       "d-----        4/29/2015   5:40 PM                Libraries                           Entertainer                        \r\n",
       "-a----        4/29/2015   5:40 PM           3072 data.sqlite                         Entertainer                        \r\n",
       "-a----        4/29/2015   5:40 PM            158 k.csv                               Entertainer                        \r\n",
       "-a----        4/29/2015   5:40 PM          12442 Profile.ps1                         Entertainer"
      ]
     },
     "execution_count": 20,
     "metadata": {},
     "output_type": "execute_result"
    }
   ],
   "source": [
    "Invoke-Command (Get-PSSession 2) { Get-ChildItem .\\WindowsPowerShell }"
   ]
  },
  {
   "cell_type": "code",
   "execution_count": 1,
   "metadata": {},
   "outputs": [
    {
     "data": {
      "text/html": [
       "<script src=\"https://d3js.org/d3.v4.min.js\"></script>\n",
       "<script src=\"https://cdn.plot.ly/plotly-latest.min.js\"></script>"
      ],
      "text/plain": [
       "<script src=\"https://d3js.org/d3.v4.min.js\"></script>\n",
       "<script src=\"https://cdn.plot.ly/plotly-latest.min.js\"></script>"
      ]
     },
     "execution_count": 1,
     "metadata": {},
     "output_type": "execute_result"
    }
   ],
   "source": [
    "function Show-Plotly {\n",
    "    [CmdletBinding()]param($data, $layout)\n",
    "    \n",
    "    if($IsNteract) {\n",
    "        $plot = [PSCustomObject]@{\n",
    "            \"application/vnd.plotly.v1+json\" = @{ data = @($data); layout = $layout }\n",
    "        }\n",
    "    \n",
    "        $plot | Write-Jupyter\n",
    "    } else {\n",
    "    \n",
    "        $pData = $data | ConvertTo-Json\n",
    "        $pLayout = $layout | ConvertTo-Json \n",
    "@\"\n",
    "<div id=\"plot1\" style=\"width:100%;\"></div>\n",
    "<script>\n",
    "    Plotly.plot(\"plot1\", $pData, $pLayout)\n",
    "</script>\n",
    "\"@\n",
    "    }\n",
    "}\n",
    "@'\n",
    "<script src=\"https://d3js.org/d3.v4.min.js\"></script>\n",
    "<script src=\"https://cdn.plot.ly/plotly-latest.min.js\"></script>\n",
    "'@"
   ]
  },
  {
   "cell_type": "code",
   "execution_count": 2,
   "metadata": {},
   "outputs": [
    {
     "data": {
      "text/html": [
       "<div id=\"plot1\" style=\"width:100%;\"></div>\n",
       "<script>\n",
       "    Plotly.plot(\"plot1\", [\r\n",
       "    {\r\n",
       "        \"y\":  null,\r\n",
       "        \"marker\":  {\r\n",
       "                       \"color\":  \"rgb(55, 83, 109)\"\r\n",
       "                   },\r\n",
       "        \"name\":  \"Height\",\r\n",
       "        \"type\":  \"bar\",\r\n",
       "        \"x\":  null\r\n",
       "    },\r\n",
       "    {\r\n",
       "        \"xaxis\":  \"x2\",\r\n",
       "        \"name\":  \"Mass\",\r\n",
       "        \"y\":  null,\r\n",
       "        \"type\":  \"bar\",\r\n",
       "        \"marker\":  {\r\n",
       "                       \"color\":  \"rgb(26,118,225)\"\r\n",
       "                   },\r\n",
       "        \"x\":  null\r\n",
       "    }\r\n",
       "], {\r\n",
       "    \"xaxis2\":  {\r\n",
       "                   \"overlaying\":  \"x\"\r\n",
       "               }\r\n",
       "})\n",
       "</script>"
      ],
      "text/plain": [
       "<div id=\"plot1\" style=\"width:100%;\"></div>\n",
       "<script>\n",
       "    Plotly.plot(\"plot1\", [\r\n",
       "    {\r\n",
       "        \"y\":  null,\r\n",
       "        \"marker\":  {\r\n",
       "                       \"color\":  \"rgb(55, 83, 109)\"\r\n",
       "                   },\r\n",
       "        \"name\":  \"Height\",\r\n",
       "        \"type\":  \"bar\",\r\n",
       "        \"x\":  null\r\n",
       "    },\r\n",
       "    {\r\n",
       "        \"xaxis\":  \"x2\",\r\n",
       "        \"name\":  \"Mass\",\r\n",
       "        \"y\":  null,\r\n",
       "        \"type\":  \"bar\",\r\n",
       "        \"marker\":  {\r\n",
       "                       \"color\":  \"rgb(26,118,225)\"\r\n",
       "                   },\r\n",
       "        \"x\":  null\r\n",
       "    }\r\n",
       "], {\r\n",
       "    \"xaxis2\":  {\r\n",
       "                   \"overlaying\":  \"x\"\r\n",
       "               }\r\n",
       "})\n",
       "</script>"
      ]
     },
     "execution_count": 2,
     "metadata": {},
     "output_type": "execute_result"
    }
   ],
   "source": [
    "Show-Plotly @{\n",
    "    type = \"bar\"\n",
    "    x = $People.name\n",
    "    y = $People.height\n",
    "    name = \"Height\"\n",
    "\n",
    "    marker = @{ color = \"rgb(55, 83, 109)\" }\n",
    "},@{\n",
    "    type = \"bar\"\n",
    "    x = $People.name\n",
    "    y = $People.mass\n",
    "    name = \"Mass\"\n",
    "    \n",
    "    marker = @{ color = \"rgb(26,118,225)\" }\n",
    "    xaxis = \"x2\"\n",
    "} @{ \n",
    "    xaxis2 = @{ \n",
    "        overlaying = \"x\"\n",
    "    }\n",
    "}"
   ]
  },
  {
   "cell_type": "code",
   "execution_count": 4,
   "metadata": {},
   "outputs": [
    {
     "data": {
      "text/plain": [
       "Directory: C:\\Users\\Joel\\Projects\\Jupyter\\Jupyter-PowerShell\r\n",
       "\r\n",
       "\r\n",
       "Mode                LastWriteTime         Length Name                                                                                                                           \r\n",
       "----                -------------         ------ ----                                                                                                                           \r\n",
       "d-----        1/14/2018  11:12 PM                .ipynb_checkpoints                                                                                                             \r\n",
       "d-----        1/19/2018   1:05 AM                .vscode                                                                                                                        \r\n",
       "d-----        1/14/2018  11:12 PM                Jupyter                                                                                                                        \r\n",
       "d-----        2/22/2018  12:48 AM                Output                                                                                                                         \r\n",
       "d-----        2/21/2018  11:20 PM                PowerShell-Kernel                                                                                                              \r\n",
       "d-----        2/20/2018   1:09 AM                tools                                                                                                                          \r\n",
       "-a----        6/16/2017  11:57 PM           2581 .gitattributes                                                                                                                 \r\n",
       "-a----        6/28/2017   1:04 AM           4597 .gitignore                                                                                                                     \r\n",
       "-a----        2/20/2018  11:13 PM           1866 build.ps1                                                                                                                      \r\n",
       "-a----        2/20/2018   1:44 AM           4682 jupyter-powershell.nuspec                                                                                                      \r\n",
       "-a----         8/3/2017  11:19 PM           2063 Jupyter-PowerShell.sln                                                                                                         \r\n",
       "-a----        6/26/2017   1:54 PM            289 kernel.json                                                                                                                    \r\n",
       "-a----        6/24/2017   3:07 AM           1140 LICENSE.md                                                                                                                     \r\n",
       "-a----        8/18/2017  12:05 AM          12612 nteract - plotly.ipynb                                                                                                         \r\n",
       "-a----        7/13/2017  10:49 PM            411 nuget.config                                                                                                                   \r\n",
       "-a----         8/2/2017  11:51 PM          55244 PowerShell.ico                                                                                                                 \r\n",
       "-a----        2/21/2018  12:07 AM          89104 ReadMe.ipynb                                                                                                                   \r\n",
       "-a----        6/28/2017   1:27 AM           2540 ReadMe.md                                                                                                                      \r\n",
       "-a----         8/3/2017  11:19 PM           8712 Release.ipynb                                                                                                                  \r\n",
       "-a----        2/21/2018   1:06 AM          69383 Untitled.ipynb"
      ]
     },
     "execution_count": 4,
     "metadata": {},
     "output_type": "execute_result"
    }
   ],
   "source": [
    "ls"
   ]
  },
  {
   "cell_type": "code",
   "execution_count": 5,
   "metadata": {},
   "outputs": [
    {
     "data": {
      "text/plain": [
       "C:\\Users\\Joel\\OneDrive\\Documents\\PowerShell\\Modules\r\n",
       "C:\\Program Files\\PowerShell\\Modules\r\n",
       "c:\\users\\joel\\projects\\jupyter\\jupyter-powershell\\output\\debug\\windows\\Modules"
      ]
     },
     "execution_count": 5,
     "metadata": {},
     "output_type": "execute_result"
    }
   ],
   "source": [
    "$Env:PSModulePath -split ';'"
   ]
  },
  {
   "cell_type": "code",
   "execution_count": 6,
   "metadata": {},
   "outputs": [],
   "source": [
    "Import-Module Microsoft.PowerShell.Utility"
   ]
  },
  {
   "cell_type": "code",
   "execution_count": 9,
   "metadata": {},
   "outputs": [
    {
     "data": {
      "text/plain": [
       "Directory: C:\\Users\\Joel\\OneDrive\\Documents\\PowerShell\\Modules\r\n",
       "\r\n",
       "\r\n",
       "ModuleType Version    Name                                ExportedCommands                                     \r\n",
       "---------- -------    ----                                ----------------                                     \r\n",
       "Script     2.0.0      PSReadLine                          {Get-PSReadLineKeyHandler, Set-PSReadLineKeyHandle...\r\n",
       "Script     0.3.0      ZLocation                           {Set-ZLocation, Remove-ZLocation, Get-ZLocation, U...\r\n",
       "\r\n",
       "\r\n",
       "    Directory: C:\\users\\joel\\projects\\jupyter\\jupyter-powershell\\output\\debug\\windows\\Modules\r\n",
       "\r\n",
       "\r\n",
       "ModuleType Version    Name                                ExportedCommands                                     \r\n",
       "---------- -------    ----                                ----------------                                     \r\n",
       "Manifest   1.0.0.0    CimCmdlets                          {Get-CimAssociatedInstance, Get-CimClass, Get-CimI...\r\n",
       "Manifest   1.1.0.0    Microsoft.PowerShell.Archive        {Compress-Archive, Expand-Archive}                   \r\n",
       "Manifest   3.0.0.0    Microsoft.PowerShell.Diagnostics    {Get-WinEvent, New-WinEvent}                         \r\n",
       "Manifest   3.0.0.0    Microsoft.PowerShell.Host           {Start-Transcript, Stop-Transcript}                  \r\n",
       "Manifest   3.1.0.0    Microsoft.PowerShell.Management     {Add-Content, Clear-Content, Clear-ItemProperty, J...\r\n",
       "Manifest   3.0.0.0    Microsoft.PowerShell.Security       {Get-Acl, Set-Acl, Get-PfxCertificate, Get-Credent...\r\n",
       "Manifest   3.1.0.0    Microsoft.PowerShell.Utility        {Format-List, Format-Custom, Format-Table, Format-...\r\n",
       "Manifest   3.0.0.0    Microsoft.WSMan.Management          {Disable-WSManCredSSP, Enable-WSManCredSSP, Get-WS...\r\n",
       "Script     1.1.7.0    PackageManagement                   {Find-Package, Get-Package, Get-PackageProvider, G...\r\n",
       "Script     1.6.0      PowerShellGet                       {Install-Module, Find-Module, Save-Module, Update-...\r\n",
       "Script     0.0        PSDesiredStateConfiguration         {ThrowError, Get-PSMetaConfigDocumentInstVersionIn...\r\n",
       "Script     1.0.0.0    PSDiagnostics                       {Disable-PSTrace, Disable-PSWSManCombinedTrace, Di...\r\n",
       "Script     1.2        PSReadLine                          {Get-PSReadlineKeyHandler, Set-PSReadlineKeyHandle..."
      ]
     },
     "execution_count": 9,
     "metadata": {},
     "output_type": "execute_result"
    }
   ],
   "source": [
    "Get-Module -ListAvailable"
   ]
  },
  {
   "cell_type": "code",
   "execution_count": null,
   "metadata": {
    "collapsed": true
   },
   "outputs": [],
   "source": []
  }
 ],
 "metadata": {
  "anaconda-cloud": {},
  "kernelspec": {
   "display_name": "PowerShell",
   "language": "PowerShell",
   "name": "powershell"
  },
  "language_info": {
   "codemirror_mode": "powershell",
   "file_extension": ".ps1",
   "mimetype": "text/powershell",
   "name": "PowerShell",
   "nbconvert_exporter": null,
   "pygments_lexer": "powershell",
   "version": "5.0"
  },
  "nteract": {
   "version": "0.5.5"
  }
 },
 "nbformat": 4,
 "nbformat_minor": 2
}
