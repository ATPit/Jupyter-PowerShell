{
  "cells": [
    {
      "cell_type": "markdown",
      "source": [
        "# A [Jupyter](https://jupyter.org/) Kernel for [PowerShell](https://github.com/PowerShell/PowerShell)\n",
        "\n",
        "This kernel is being written in C#, and in the process, I've taken some messaging code from the [iCSharp kernel](https://github.com/zabirauf/icsharp) and made a generic library for .Net with a re-usable core for anyone who needs to create [Jupyter](https://jupyter.org/) kernels in .Net languages -- so feel free to borrow that if you like (it's under the Apache license).\n",
        "\n",
        "## Install\n",
        "\n",
        "I am finally doing a preliminary release: you can download from the releases link, unzip it somewhere, and run the `Install.ps1` script. Note that if you run this on Linux or OS X you should expect to see only \"PowerShell (Core)\" but on Windows you'll see both -- but only the \"PowerShell (Full)\" will actually work unless you have PowerShell Core installed in your PATH and working.\n",
        "\n",
        "## Current Status\n",
        "\n",
        "So far, I am only handling two messages:\n",
        "\n",
        "* KernelInfo request\n",
        "* Execute request\n",
        "\n",
        "The PowerShell kernel is _working_, and returning text output _and errors_ as on the console (see examples below).\n",
        "\n",
        "## Features\n",
        "\n",
        "* `Write-Jupyter` command allows you to customize output (not in a released build yet) by specifying the mime type. See below. \n",
        "* There's a config option (in `PowerShell-Kernel.Config.json`) to always output the actual objects as application/json data, in addition to the plain text output."
      ],
      "metadata": {
        "collapsed": true
      }
    },
    {
      "cell_type": "markdown",
      "source": [
        "## PowerShell Core *and Full*\n",
        "\n",
        "In order to get cross-platform support, this kernel is using [PowerShell Core](https://github.com/PowerShell/PowerShell), which means you'll want to have PowerShell 6 Beta 3 installed to try it out. As of today, it also builds for \"Full Framework\" Windows PowerShell!\n",
        "\nTo build it yourself --or to run the \"PowerShell (Core)\" kernel-- you need [dotnet core 2 preview](https://www.microsoft.com/net/core/preview).  You can build it by running `dotnet restore; dotnet build` from the root. If you want to contribute --and want to build it in Visual Studio-- you need [VS 2017 Preview version 15.3](https://www.visualstudio.com/vs/preview/)."
      ],
      "metadata": {}
    },
    {
      "cell_type": "code",
      "source": [
        "$PSVersionTable"
      ],
      "outputs": [
        {
          "output_type": "execute_result",
          "execution_count": 3,
          "data": {
            "text/plain": [
              "Name                           Value                                                                                    \r\n",
              "----                           -----                                                                                    \r\n",
              "PSVersion                      5.1.16215.1000                                                                           \r\n",
              "PSEdition                      Desktop                                                                                  \r\n",
              "PSCompatibleVersions           {1.0, 2.0, 3.0, 4.0...}                                                                  \r\n",
              "BuildVersion                   10.0.16215.1000                                                                          \r\n",
              "CLRVersion                     4.0.30319.42000                                                                          \r\n",
              "WSManStackVersion              3.0                                                                                      \r\n",
              "PSRemotingProtocolVersion      2.3                                                                                      \r\n",
              "SerializationVersion           1.1.0.1"
            ]
          },
          "metadata": {}
        }
      ],
      "execution_count": 3,
      "metadata": {}
    },
    {
      "cell_type": "markdown",
      "source": [
        "If we ran that same command in the \"PowerShell (Core)\" engine, you would see a different, result of course. Incidentally, I don't have any idea what the deal with the \"GitCommitId\" is -- I need to file a bug on the PowerShell repo about that."
      ],
      "metadata": {}
    },
    {
      "cell_type": "code",
      "source": [
        "$PSVersionTable"
      ],
      "outputs": [
        {
          "output_type": "execute_result",
          "execution_count": 1,
          "data": {
            "application/json": {
              "output": [
                {
                  "GitCommitId": "Could not find file 'C:\\Users\\Joel\\.nuget\\packages\\system.management.automation\\6.0.0-beta.3\\lib\\netcoreapp2.0\\powershell.version'.",
                  "OS": "Microsoft Windows 10.0.16215 ",
                  "PSCompatibleVersions": [
                    {
                      "Build": -1,
                      "Major": 1,
                      "MajorRevision": -1,
                      "Minor": 0,
                      "MinorRevision": -1,
                      "Revision": -1
                    },
                    {
                      "Build": -1,
                      "Major": 2,
                      "MajorRevision": -1,
                      "Minor": 0,
                      "MinorRevision": -1,
                      "Revision": -1
                    },
                    {
                      "Build": -1,
                      "Major": 3,
                      "MajorRevision": -1,
                      "Minor": 0,
                      "MinorRevision": -1,
                      "Revision": -1
                    },
                    {
                      "Build": -1,
                      "Major": 4,
                      "MajorRevision": -1,
                      "Minor": 0,
                      "MinorRevision": -1,
                      "Revision": -1
                    },
                    {
                      "Build": -1,
                      "Major": 5,
                      "MajorRevision": -1,
                      "Minor": 0,
                      "MinorRevision": -1,
                      "Revision": -1
                    },
                    {
                      "Build": 10032,
                      "Major": 5,
                      "MajorRevision": 0,
                      "Minor": 1,
                      "MinorRevision": 0,
                      "Revision": 0
                    },
                    {
                      "Build": 0,
                      "Major": 6,
                      "MajorRevision": -1,
                      "Minor": 0,
                      "MinorRevision": -1,
                      "Revision": -1
                    }
                  ],
                  "PSEdition": "Core",
                  "PSRemotingProtocolVersion": {
                    "Build": -1,
                    "Major": 2,
                    "MajorRevision": -1,
                    "Minor": 3,
                    "MinorRevision": -1,
                    "Revision": -1
                  },
                  "PSVersion": {
                    "Label": "beta",
                    "Major": 6,
                    "Minor": 0,
                    "Patch": 0
                  },
                  "Platform": "Win32NT",
                  "SerializationVersion": {
                    "Build": 0,
                    "Major": 1,
                    "MajorRevision": 0,
                    "Minor": 1,
                    "MinorRevision": 1,
                    "Revision": 1
                  },
                  "WSManStackVersion": {
                    "Build": -1,
                    "Major": 3,
                    "MajorRevision": -1,
                    "Minor": 0,
                    "MinorRevision": -1,
                    "Revision": -1
                  }
                }
              ]
            },
            "text/plain": [
              "Name                           Value                                                                                    \r\n",
              "----                           -----                                                                                    \r\n",
              "PSVersion                      6.0.0-beta                                                                               \r\n",
              "PSEdition                      Core                                                                                     \r\n",
              "GitCommitId                    Could not find file 'C:\\Users\\Joel\\.nuget\\packages\\system.management.automation\\6.0.0-...\r\n",
              "OS                             Microsoft Windows 10.0.16215                                                             \r\n",
              "Platform                       Win32NT                                                                                  \r\n",
              "PSCompatibleVersions           {1.0, 2.0, 3.0, 4.0...}                                                                  \r\n",
              "PSRemotingProtocolVersion      2.3                                                                                      \r\n",
              "SerializationVersion           1.1.0.1                                                                                  \r\n",
              "WSManStackVersion              3.0"
            ]
          },
          "metadata": {}
        }
      ],
      "execution_count": 1,
      "metadata": {}
    },
    {
      "cell_type": "markdown",
      "source": [
        "The rest of these examples actually output the same things regardless of whether you run them in PowerShell (Full) or PowerShell (Core). And I think I will probably rename \"PowerShell (Full)\" after I sleep on it ..."
      ],
      "metadata": {}
    },
    {
      "cell_type": "code",
      "source": [
        "Get-ChildItem"
      ],
      "outputs": [
        {
          "output_type": "execute_result",
          "execution_count": 4,
          "data": {
            "text/plain": [
              "Directory: C:\\Users\\Joel\\Projects\\Jupyter\\Jupyter-PowerShell\r\n",
              "\r\n\r\n",
              "Mode                LastWriteTime         Length Name                                                                   \r\n",
              "----                -------------         ------ ----                                                                   \r\n",
              "d-----        6/29/2017   2:55 AM                .ipynb_checkpoints                                                     \r\n",
              "d-----         7/7/2017   3:03 AM                Jupyter                                                                \r\n",
              "d-----        6/29/2017  10:35 PM                Output                                                                 \r\n",
              "d-----         7/7/2017   3:07 AM                PowerShell-Kernel                                                      \r\n",
              "-a----        6/16/2017  11:57 PM           2581 .gitattributes                                                         \r\n",
              "-a----        6/28/2017   1:04 AM           4597 .gitignore                                                             \r\n",
              "-a----         7/3/2017   1:54 AM           5906 Install.ps1                                                            \r\n",
              "-a----        6/27/2017   9:38 PM           1903 Jupyter-PowerShell.sln                                                 \r\n",
              "-a----        6/26/2017   1:54 PM            289 kernel.json                                                            \r\n",
              "-a----        6/24/2017   3:07 AM           1140 LICENSE.md                                                             \r\n",
              "-a----         7/4/2017  12:31 AM            352 nuget.config                                                           \r\n",
              "-a----         7/7/2017   3:35 AM          30722 ReadMe.ipynb                                                           \r\n",
              "-a----        6/28/2017   1:27 AM           2540 ReadMe.md                                                              \r\n",
              "-a----         7/7/2017   3:31 AM           7375 Release.ipynb"
            ]
          },
          "metadata": {}
        }
      ],
      "execution_count": 4,
      "metadata": {}
    },
    {
      "cell_type": "code",
      "source": [
        "$Files = Get-ChildItem -File"
      ],
      "outputs": [],
      "execution_count": 7,
      "metadata": {
        "collapsed": true
      }
    },
    {
      "cell_type": "markdown",
      "source": [
        "## No Output.\n",
        "\n",
        "Obviously there's no output from that command, because it's all collected in the variable.\n",
        "\nI put that here was just to demonstrate that variables stick around so you can use them in other commands in the future, so let's look at the size of those files again:"
      ],
      "metadata": {}
    },
    {
      "cell_type": "code",
      "source": [
        "$Files | Measure Length -Sum"
      ],
      "outputs": [
        {
          "output_type": "execute_result",
          "execution_count": 3,
          "data": {
            "text/plain": [
              "Count    : 10\r\n",
              "Average  : \r\n",
              "Sum      : 50961\r\n",
              "Maximum  : \r\n",
              "Minimum  : \r\n",
              "Property : Length"
            ]
          },
          "metadata": {}
        }
      ],
      "execution_count": 6,
      "metadata": {}
    },
    {
      "cell_type": "code",
      "source": [
        "Set-Location PowerShell-Kernel"
      ],
      "outputs": [],
      "execution_count": 7,
      "metadata": {
        "collapsed": true
      }
    },
    {
      "cell_type": "markdown",
      "source": [
        "Again, any command with no output just has ... no output.\n",
        "\n",
        "### But it affects the state.\n",
        "\n",
        "This means you will be able to use this for literate devops...\n",
        "\nOh, and since I mentioned you can do HTML output, here's PowerShell's built-in ConvertTo-Html"
      ],
      "metadata": {}
    },
    {
      "cell_type": "code",
      "source": [
        "Get-ChildItem -file | ConvertTo-Html Mode, LastWriteTime, Name, Length"
      ],
      "outputs": [
        {
          "output_type": "execute_result",
          "execution_count": 8,
          "data": {
            "text/html": [
              "<!DOCTYPE html PUBLIC \"-//W3C//DTD XHTML 1.0 Strict//EN\"  \"http://www.w3.org/TR/xhtml1/DTD/xhtml1-strict.dtd\">\r\n",
              "<html xmlns=\"http://www.w3.org/1999/xhtml\">\r\n",
              "<head>\r\n",
              "<title>HTML TABLE</title>\r\n",
              "</head><body>\r\n",
              "<table>\r\n",
              "<colgroup><col/><col/><col/><col/></colgroup>\r\n",
              "<tr><th>Mode</th><th>LastWriteTime</th><th>Name</th><th>Length</th></tr>\r\n",
              "<tr><td>-a----</td><td>7/6/2017 3:07:41 AM</td><td>ExecutionResult.cs</td><td>1541</td></tr>\r\n",
              "<tr><td>-a----</td><td>7/7/2017 12:08:29 AM</td><td>Kernel.cs</td><td>2901</td></tr>\r\n",
              "<tr><td>-a----</td><td>7/4/2017 2:53:22 AM</td><td>MessagingHost.cs</td><td>210</td></tr>\r\n",
              "<tr><td>-a----</td><td>7/6/2017 8:07:52 PM</td><td>PowerShell-Kernel.Config.json</td><td>185</td></tr>\r\n",
              "<tr><td>-a----</td><td>7/6/2017 11:29:47 PM</td><td>PowerShell-Kernel.csproj</td><td>3035</td></tr>\r\n",
              "<tr><td>-a----</td><td>7/7/2017 3:07:02 AM</td><td>PowerShellEngine.cs</td><td>8417</td></tr>\r\n",
              "<tr><td>-a----</td><td>6/26/2017 1:54:08 PM</td><td>ScalarHelper.cs</td><td>2624</td></tr>\r\n",
              "<tr><td>-a----</td><td>7/7/2017 12:00:55 AM</td><td>SessionHelper.cs</td><td>963</td></tr>\r\n",
              "</table>\r\n",
              "</body></html>"
            ],
            "text/plain": [
              "<!DOCTYPE html PUBLIC \"-//W3C//DTD XHTML 1.0 Strict//EN\"  \"http://www.w3.org/TR/xhtml1/DTD/xhtml1-strict.dtd\">\r\n",
              "<html xmlns=\"http://www.w3.org/1999/xhtml\">\r\n",
              "<head>\r\n",
              "<title>HTML TABLE</title>\r\n",
              "</head><body>\r\n",
              "<table>\r\n",
              "<colgroup><col/><col/><col/><col/></colgroup>\r\n",
              "<tr><th>Mode</th><th>LastWriteTime</th><th>Name</th><th>Length</th></tr>\r\n",
              "<tr><td>-a----</td><td>7/6/2017 3:07:41 AM</td><td>ExecutionResult.cs</td><td>1541</td></tr>\r\n",
              "<tr><td>-a----</td><td>7/7/2017 12:08:29 AM</td><td>Kernel.cs</td><td>2901</td></tr>\r\n",
              "<tr><td>-a----</td><td>7/4/2017 2:53:22 AM</td><td>MessagingHost.cs</td><td>210</td></tr>\r\n",
              "<tr><td>-a----</td><td>7/6/2017 8:07:52 PM</td><td>PowerShell-Kernel.Config.json</td><td>185</td></tr>\r\n",
              "<tr><td>-a----</td><td>7/6/2017 11:29:47 PM</td><td>PowerShell-Kernel.csproj</td><td>3035</td></tr>\r\n",
              "<tr><td>-a----</td><td>7/7/2017 3:07:02 AM</td><td>PowerShellEngine.cs</td><td>8417</td></tr>\r\n",
              "<tr><td>-a----</td><td>6/26/2017 1:54:08 PM</td><td>ScalarHelper.cs</td><td>2624</td></tr>\r\n",
              "<tr><td>-a----</td><td>7/7/2017 12:00:55 AM</td><td>SessionHelper.cs</td><td>963</td></tr>\r\n",
              "</table>\r\n",
              "</body></html>"
            ]
          },
          "metadata": {}
        }
      ],
      "execution_count": 8,
      "metadata": {
        "scrolled": true
      }
    },
    {
      "cell_type": "code",
      "source": [
        "Get-Help Write-Jupyter"
      ],
      "outputs": [
        {
          "output_type": "execute_result",
          "execution_count": 9,
          "data": {
            "text/plain": [
              "NAME\r\n",
              "    Write-Jupyter\r\n",
              "    \r\n",
              "SYNTAX\r\n",
              "    Write-Jupyter -InputObject <psobject>  [<CommonParameters>]\r\n",
              "    \r\n",
              "    Write-Jupyter -InputObject <psobject> [-Id <string>]  [<CommonParameters>]\r\n",
              "    \r\n",
              "    Write-Jupyter -InputObject <psobject> [-Update <string>]  [<CommonParameters>]\r\n",
              "    \r\n",
              "\r\n",
              "ALIASES\r\n",
              "    None\r\n",
              "    \r\n",
              "\r\n",
              "REMARKS\r\n",
              "    None"
            ]
          },
          "metadata": {}
        }
      ],
      "execution_count": 9,
      "metadata": {}
    },
    {
      "cell_type": "code",
      "source": [
        "$imageUrl = \n",
        "'https://upload.wikimedia.org/wikipedia/commons/2/2f/PowerShell_5.0_icon.png'\n",
        "@{ \"html\" = \"<img src='$imageUrl' />\" } | Write-Jupyter"
      ],
      "outputs": [
        {
          "output_type": "display_data",
          "data": {
            "text/html": [
              "<img src='https://upload.wikimedia.org/wikipedia/commons/2/2f/PowerShell_5.0_icon.png' />"
            ]
          },
          "metadata": {}
        }
      ],
      "execution_count": 2,
      "metadata": {}
    },
    {
      "cell_type": "code",
      "source": [
        "# TODO: add -Metadata to Write-Jupyter so we can set the size\n",
        "@{ \n",
        "\"png\" = (Invoke-WebRequest $imageUrl -UseBasicParsing).RawContentStream.GetBuffer()\n",
        "} | Write-Jupyter"
      ],
      "outputs": [
        {
          "output_type": "display_data",
          "data": {
            "image/png": "[encoded data removed]"
          },
          "metadata": {}
        }
      ],
      "execution_count": null,
      "metadata": {
        "collapsed": false,
        "outputHidden": false,
        "inputHidden": false
      }
    },
    {
      "cell_type": "code",
      "source": [
        "# TODO: fix need to -join?\n",
        "# TODO: fix double-json encoding\n",
        "[PSCustomObject]@{\n",
        "\"html\" = -join ($Files | ConvertTo-Html Mode, LastWriteTime, Name, Length) \n",
        "#\"json\" = -join ($Files | ConvertTo-Json)\n",
        "} | Write-Jupyter"
      ],
      "outputs": [
        {
          "output_type": "display_data",
          "data": {
            "text/html": [
              "<!DOCTYPE html PUBLIC \"-//W3C//DTD XHTML 1.0 Strict//EN\"  \"http://www.w3.org/TR/xhtml1/DTD/xhtml1-strict.dtd\"><html xmlns=\"http://www.w3.org/1999/xhtml\"><head><title>HTML TABLE</title></head><body><table><colgroup><col/><col/><col/><col/></colgroup><tr><th>Mode</th><th>LastWriteTime</th><th>Name</th><th>Length</th></tr><tr><td>-a----</td><td>6/16/2017 11:57:42 PM</td><td>.gitattributes</td><td>2581</td></tr><tr><td>-a----</td><td>6/28/2017 1:04:01 AM</td><td>.gitignore</td><td>4597</td></tr><tr><td>-a----</td><td>7/3/2017 1:54:06 AM</td><td>Install.ps1</td><td>5906</td></tr><tr><td>-a----</td><td>6/27/2017 9:38:09 PM</td><td>Jupyter-PowerShell.sln</td><td>1903</td></tr><tr><td>-a----</td><td>6/26/2017 1:54:08 PM</td><td>kernel.json</td><td>289</td></tr><tr><td>-a----</td><td>6/24/2017 3:07:27 AM</td><td>LICENSE.md</td><td>1140</td></tr><tr><td>-a----</td><td>7/4/2017 12:31:24 AM</td><td>nuget.config</td><td>352</td></tr><tr><td>-a----</td><td>7/7/2017 3:47:38 AM</td><td>ReadMe.ipynb</td><td>24278</td></tr><tr><td>-a----</td><td>6/28/2017 1:27:51 AM</td><td>ReadMe.md</td><td>2540</td></tr><tr><td>-a----</td><td>7/7/2017 3:31:36 AM</td><td>Release.ipynb</td><td>7375</td></tr></table></body></html>"
            ]
          },
          "metadata": {}
        }
      ],
      "execution_count": 15,
      "metadata": {}
    },
    {
      "cell_type": "markdown",
      "source": [
        "### I fixed [3](https://github.com/Jaykul/Jupyter-PowerShell/issues/3) so errors show up:"
      ],
      "metadata": {}
    },
    {
      "cell_type": "code",
      "source": [
        "Get-ChildItem nosuchfile"
      ],
      "outputs": [
        {
          "output_type": "stream",
          "name": "stderr",
          "text": [
            "Get-ChildItem : Cannot find path 'C:\\Users\\Joel\\Projects\\Jupyter\\Jupyter-PowerShell\\PowerShell-Kernel\\nosuchfile' because it does not exist.\r\n"
          ]
        },
        {
          "output_type": "error",
          "ename": "PathNotFound,Microsoft.PowerShell.Commands.GetChildItemCommand",
          "evalue": "Get-ChildItem : Cannot find path 'C:\\Users\\Joel\\Projects\\Jupyter\\Jupyter-PowerShell\\PowerShell-Kernel\\nosuchfile' because it does not exist.\r\n",
          "traceback": [
            "At line:1 char:1\n+ Get-ChildItem nosuchfile\r\n+ ~~~~~~~~~~~~~~~~~~~~~~~~",
            "CategoryInfo          : ObjectNotFound: (C:\\Users\\Joel\\P...rnel\\nosuchfile:String) [Get-ChildItem], ItemNotFoundException",
            "FullyQualifiedErrorId : PathNotFound,Microsoft.PowerShell.Commands.GetChildItemCommand"
          ]
        }
      ],
      "execution_count": null,
      "metadata": {
        "scrolled": true
      }
    },
    {
      "cell_type": "code",
      "source": [
        "iwr natas2.natas.labs.overthewire.org"
      ],
      "outputs": [
        {
          "output_type": "stream",
          "name": "stderr",
          "text": [
            "iwr : \n",
            "\n",
            "401 Unauthorized\n",
            "\n",
            "Unauthorized\n",
            "This server could not verify that you\n",
            "are authorized to access the document\n",
            "requested.  Either you supplied the wrong\n",
            "credentials (e.g., bad password), or your\n",
            "browser doesn't understand how to supply\n",
            "the credentials required.\n",
            "\n",
            "Apache/2.4.10 (Debian) Server at natas2.natas.labs.overthewire.org Port 80\n",
            "\n\r\n"
          ]
        },
        {
          "output_type": "error",
          "ename": "WebCmdletWebResponseException,Microsoft.PowerShell.Commands.InvokeWebRequestCommand",
          "evalue": "iwr : \n\n401 Unauthorized\n\nUnauthorized\nThis server could not verify that you\nare authorized to access the document\nrequested.  Either you supplied the wrong\ncredentials (e.g., bad password), or your\nbrowser doesn't understand how to supply\nthe credentials required.\n\nApache/2.4.10 (Debian) Server at natas2.natas.labs.overthewire.org Port 80\n\n\r\n",
          "traceback": [
            "At line:1 char:1\n+ iwr natas2.natas.labs.overthewire.org\r\n+ ~~~~~~~~~~~~~~~~~~~~~~~~~~~~~~~~~~~~~",
            "CategoryInfo          : InvalidOperation: (Method: GET, Re...rShell/6.0.0\r\n}:HttpRequestMessage) [Invoke-WebRequest], HttpResponseException",
            "FullyQualifiedErrorId : WebCmdletWebResponseException,Microsoft.PowerShell.Commands.InvokeWebRequestCommand"
          ]
        }
      ],
      "execution_count": null,
      "metadata": {}
    },
    {
      "cell_type": "code",
      "source": [
        "Get-Credential -UserName Joel -Message \"Type 'Password'\""
      ],
      "outputs": [
        {
          "output_type": "stream",
          "name": "stderr",
          "text": [
            "Get-Credential : A command that prompts the user failed because the host program or the command type does not support user interaction. The host was attempting to request confirmation with the following message: Type 'Password'\r\n"
          ]
        },
        {
          "output_type": "error",
          "ename": "HostFunctionNotImplemented,Microsoft.PowerShell.Commands.GetCredentialCommand",
          "evalue": "Get-Credential : A command that prompts the user failed because the host program or the command type does not support user interaction. The host was attempting to request confirmation with the following message: Type 'Password'\r\n",
          "traceback": [
            "At line:1 char:1\n+ Get-Credential -UserName Joel -Message \"Type 'Password'\"\r\n+ ~~~~~~~~~~~~~~~~~~~~~~~~~~~~~~~~~~~~~~~~~~~~~~~~~~~~~~~~",
            "CategoryInfo          : NotImplemented: (:) [Get-Credential], HostException",
            "FullyQualifiedErrorId : HostFunctionNotImplemented,Microsoft.PowerShell.Commands.GetCredentialCommand"
          ]
        }
      ],
      "execution_count": null,
      "metadata": {}
    }
  ],
  "metadata": {
    "anaconda-cloud": {},
    "kernel_info": {
      "name": "PowerShell-Full"
    },
    "kernelspec": {
      "name": "PowerShell-Full",
      "language": "PowerShell",
      "display_name": "PowerShell (Full)"
    },
    "language_info": {
      "codemirror_mode": "powershell",
      "file_extension": ".ps1",
      "mimetype": "text/powershell",
      "name": "PowerShell",
      "nbconvert_exporter": null,
      "pygments_lexer": "powershell",
      "version": "5.0"
    }
  },
  "nbformat": 4,
  "nbformat_minor": 1
}