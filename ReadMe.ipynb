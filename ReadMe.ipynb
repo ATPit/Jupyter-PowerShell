{
 "cells": [
  {
   "cell_type": "markdown",
   "metadata": {},
   "source": [
    "# A [Jupyter](https://jupyter.org/) Kernel for [PowerShell](https://github.com/PowerShell/PowerShell)\n",
    "\n",
    "This kernel is being written in C#, and in the process, I've taken some messaging code from the [iCSharp kernel](https://github.com/zabirauf/icsharp) and made a generic library for .Net with a re-usable core for anyone who needs to create [Jupyter](https://jupyter.org/) kernels in .Net languages -- so feel free to borrow that if you like (it's under the Apache license).\n",
    "\n",
    "## Install\n",
    "\n",
    "I am finally doing a preliminary release: you can download from the releases link, unzip it somewhere, and run the `Install.ps1` script. Note that if you run this on Linux or OS X you should expect to see only \"PowerShell (Core)\" but on Windows you'll see both -- but only the \"PowerShell (Full)\" will actually work unless you have PowerShell Core installed in your PATH and working.\n",
    "\n",
    "## Current Status\n",
    "\n",
    "At this point, I'm only handling two messages:\n",
    "\n",
    "* KernelInfo request\n",
    "* Execute request\n",
    "\n",
    "The PowerShell kernel is _working_, and returning text output _and errors_ as on the console (see examples below).\n",
    "\n",
    "## Features\n",
    "\n",
    "Apart from the built-in Jupyter features, I'm going to add some output enhancements so you can hook into widgets, etc. However, there's none of thata yet, except that:\n",
    "\n",
    "* If you output HTML, it's rendered. I'm currently detecting this in the most simplistic fashion: by testing if the output starts with \"<\" and ends with \">\". That probably needs work, but it's good enough for now.\n",
    "* When a command outputs objects, you get the text rendering, but the actual objects are also returned as application/json data.\n",
    "\n",
    "## PowerShell Core *and Full*\n",
    "\n",
    "In order to get cross-platform support, this kernel is using [PowerShell Core](https://github.com/PowerShell/PowerShell), which means you'll want to have PowerShell 6 Beta 3 installed to try it out. As of today, it also builds for \"Full Framework\" Windows PowerShell!\n",
    "\n",
    "To build it yourself --or to run the \"PowerShell (Core)\" kernel-- you need [dotnet core 2 preview](https://www.microsoft.com/net/core/preview).  You can build it by running `dotnet restore; dotnet build` from the root. If you want to contribute --and want to build it in Visual Studio-- you need [VS 2017 Preview version 15.3](https://www.visualstudio.com/vs/preview/)."
   ]
  },
  {
   "cell_type": "code",
   "execution_count": 1,
   "metadata": {},
   "outputs": [
    {
     "data": {
      "application/json": {
       "output": [
        {
         "BuildVersion": {
          "Build": 16215,
          "Major": 10,
          "MajorRevision": 0,
          "Minor": 0,
          "MinorRevision": 1000,
          "Revision": 1000
         },
         "CLRVersion": {
          "Build": 30319,
          "Major": 4,
          "MajorRevision": 0,
          "Minor": 0,
          "MinorRevision": -23536,
          "Revision": 42000
         },
         "PSCompatibleVersions": [
          {
           "Build": -1,
           "Major": 1,
           "MajorRevision": -1,
           "Minor": 0,
           "MinorRevision": -1,
           "Revision": -1
          },
          {
           "Build": -1,
           "Major": 2,
           "MajorRevision": -1,
           "Minor": 0,
           "MinorRevision": -1,
           "Revision": -1
          },
          {
           "Build": -1,
           "Major": 3,
           "MajorRevision": -1,
           "Minor": 0,
           "MinorRevision": -1,
           "Revision": -1
          },
          {
           "Build": -1,
           "Major": 4,
           "MajorRevision": -1,
           "Minor": 0,
           "MinorRevision": -1,
           "Revision": -1
          },
          {
           "Build": -1,
           "Major": 5,
           "MajorRevision": -1,
           "Minor": 0,
           "MinorRevision": -1,
           "Revision": -1
          },
          {
           "Build": 16215,
           "Major": 5,
           "MajorRevision": 0,
           "Minor": 1,
           "MinorRevision": 1000,
           "Revision": 1000
          }
         ],
         "PSEdition": "Desktop",
         "PSRemotingProtocolVersion": {
          "Build": -1,
          "Major": 2,
          "MajorRevision": -1,
          "Minor": 3,
          "MinorRevision": -1,
          "Revision": -1
         },
         "PSVersion": {
          "Build": 16215,
          "Major": 5,
          "MajorRevision": 0,
          "Minor": 1,
          "MinorRevision": 1000,
          "Revision": 1000
         },
         "SerializationVersion": {
          "Build": 0,
          "Major": 1,
          "MajorRevision": 0,
          "Minor": 1,
          "MinorRevision": 1,
          "Revision": 1
         },
         "WSManStackVersion": {
          "Build": -1,
          "Major": 3,
          "MajorRevision": -1,
          "Minor": 0,
          "MinorRevision": -1,
          "Revision": -1
         }
        }
       ]
      },
      "text/plain": [
       "Name                           Value                                                                                    \r\n",
       "----                           -----                                                                                    \r\n",
       "PSVersion                      5.1.16215.1000                                                                           \r\n",
       "PSEdition                      Desktop                                                                                  \r\n",
       "PSCompatibleVersions           {1.0, 2.0, 3.0, 4.0...}                                                                  \r\n",
       "BuildVersion                   10.0.16215.1000                                                                          \r\n",
       "CLRVersion                     4.0.30319.42000                                                                          \r\n",
       "WSManStackVersion              3.0                                                                                      \r\n",
       "PSRemotingProtocolVersion      2.3                                                                                      \r\n",
       "SerializationVersion           1.1.0.1"
      ]
     },
     "execution_count": 1,
     "metadata": {},
     "output_type": "execute_result"
    }
   ],
   "source": [
    "$PSVersionTable"
   ]
  },
  {
   "cell_type": "markdown",
   "metadata": {},
   "source": [
    "If we ran that same command in the \"PowerShell (Core)\" engine, you would see a different, result of course. Incidentally, I don't have any idea what the deal with the \"GitCommitId\" is -- I need to file a bug on the PowerShell repo about that."
   ]
  },
  {
   "cell_type": "code",
   "execution_count": 1,
   "metadata": {},
   "outputs": [
    {
     "data": {
      "application/json": {
       "output": [
        {
         "GitCommitId": "Could not find file 'C:\\Users\\Joel\\.nuget\\packages\\system.management.automation\\6.0.0-beta.3\\lib\\netcoreapp2.0\\powershell.version'.",
         "OS": "Microsoft Windows 10.0.16215 ",
         "PSCompatibleVersions": [
          {
           "Build": -1,
           "Major": 1,
           "MajorRevision": -1,
           "Minor": 0,
           "MinorRevision": -1,
           "Revision": -1
          },
          {
           "Build": -1,
           "Major": 2,
           "MajorRevision": -1,
           "Minor": 0,
           "MinorRevision": -1,
           "Revision": -1
          },
          {
           "Build": -1,
           "Major": 3,
           "MajorRevision": -1,
           "Minor": 0,
           "MinorRevision": -1,
           "Revision": -1
          },
          {
           "Build": -1,
           "Major": 4,
           "MajorRevision": -1,
           "Minor": 0,
           "MinorRevision": -1,
           "Revision": -1
          },
          {
           "Build": -1,
           "Major": 5,
           "MajorRevision": -1,
           "Minor": 0,
           "MinorRevision": -1,
           "Revision": -1
          },
          {
           "Build": 10032,
           "Major": 5,
           "MajorRevision": 0,
           "Minor": 1,
           "MinorRevision": 0,
           "Revision": 0
          },
          {
           "Build": 0,
           "Major": 6,
           "MajorRevision": -1,
           "Minor": 0,
           "MinorRevision": -1,
           "Revision": -1
          }
         ],
         "PSEdition": "Core",
         "PSRemotingProtocolVersion": {
          "Build": -1,
          "Major": 2,
          "MajorRevision": -1,
          "Minor": 3,
          "MinorRevision": -1,
          "Revision": -1
         },
         "PSVersion": {
          "Label": "beta",
          "Major": 6,
          "Minor": 0,
          "Patch": 0
         },
         "Platform": "Win32NT",
         "SerializationVersion": {
          "Build": 0,
          "Major": 1,
          "MajorRevision": 0,
          "Minor": 1,
          "MinorRevision": 1,
          "Revision": 1
         },
         "WSManStackVersion": {
          "Build": -1,
          "Major": 3,
          "MajorRevision": -1,
          "Minor": 0,
          "MinorRevision": -1,
          "Revision": -1
         }
        }
       ]
      },
      "text/plain": [
       "Name                           Value                                                                                    \r\n",
       "----                           -----                                                                                    \r\n",
       "PSVersion                      6.0.0-beta                                                                               \r\n",
       "PSEdition                      Core                                                                                     \r\n",
       "GitCommitId                    Could not find file 'C:\\Users\\Joel\\.nuget\\packages\\system.management.automation\\6.0.0-...\r\n",
       "OS                             Microsoft Windows 10.0.16215                                                             \r\n",
       "Platform                       Win32NT                                                                                  \r\n",
       "PSCompatibleVersions           {1.0, 2.0, 3.0, 4.0...}                                                                  \r\n",
       "PSRemotingProtocolVersion      2.3                                                                                      \r\n",
       "SerializationVersion           1.1.0.1                                                                                  \r\n",
       "WSManStackVersion              3.0"
      ]
     },
     "execution_count": 1,
     "metadata": {},
     "output_type": "execute_result"
    }
   ],
   "source": [
    "$PSVersionTable"
   ]
  },
  {
   "cell_type": "markdown",
   "metadata": {},
   "source": [
    "The rest of these examples actually output the same things regardless of whether you run them in PowerShell (Full) or PowerShell (Core). And I think I will probably rename \"PowerShell (Full)\" after I sleep on it ..."
   ]
  },
  {
   "cell_type": "code",
   "execution_count": 2,
   "metadata": {},
   "outputs": [
    {
     "data": {
      "application/json": {
       "output": [
        {
         "FullPath": "C:\\Users\\Joel\\Projects\\Jupyter\\Jupyter-PowerShell\\.ipynb_checkpoints",
         "OriginalPath": ".ipynb_checkpoints"
        },
        {
         "FullPath": "C:\\Users\\Joel\\Projects\\Jupyter\\Jupyter-PowerShell\\Jupyter",
         "OriginalPath": "Jupyter"
        },
        {
         "FullPath": "C:\\Users\\Joel\\Projects\\Jupyter\\Jupyter-PowerShell\\Output",
         "OriginalPath": "Output"
        },
        {
         "FullPath": "C:\\Users\\Joel\\Projects\\Jupyter\\Jupyter-PowerShell\\PowerShell-Kernel",
         "OriginalPath": "PowerShell-Kernel"
        },
        {
         "FullPath": "C:\\Users\\Joel\\Projects\\Jupyter\\Jupyter-PowerShell\\.gitattributes",
         "OriginalPath": ".gitattributes"
        },
        {
         "FullPath": "C:\\Users\\Joel\\Projects\\Jupyter\\Jupyter-PowerShell\\.gitignore",
         "OriginalPath": ".gitignore"
        },
        {
         "FullPath": "C:\\Users\\Joel\\Projects\\Jupyter\\Jupyter-PowerShell\\Install.ps1",
         "OriginalPath": "Install.ps1"
        },
        {
         "FullPath": "C:\\Users\\Joel\\Projects\\Jupyter\\Jupyter-PowerShell\\Jupyter-PowerShell.sln",
         "OriginalPath": "Jupyter-PowerShell.sln"
        },
        {
         "FullPath": "C:\\Users\\Joel\\Projects\\Jupyter\\Jupyter-PowerShell\\kernel.json",
         "OriginalPath": "kernel.json"
        },
        {
         "FullPath": "C:\\Users\\Joel\\Projects\\Jupyter\\Jupyter-PowerShell\\LICENSE.md",
         "OriginalPath": "LICENSE.md"
        },
        {
         "FullPath": "C:\\Users\\Joel\\Projects\\Jupyter\\Jupyter-PowerShell\\ReadMe.ipynb",
         "OriginalPath": "ReadMe.ipynb"
        },
        {
         "FullPath": "C:\\Users\\Joel\\Projects\\Jupyter\\Jupyter-PowerShell\\ReadMe.md",
         "OriginalPath": "ReadMe.md"
        }
       ]
      },
      "text/plain": [
       "Directory: C:\\Users\\Joel\\Projects\\Jupyter\\Jupyter-PowerShell\r\n",
       "\r\n",
       "\r\n",
       "Mode                LastWriteTime         Length Name                                                                   \r\n",
       "----                -------------         ------ ----                                                                   \r\n",
       "d-----        6/25/2017   1:50 AM                .ipynb_checkpoints                                                     \r\n",
       "d-----        6/27/2017  11:54 PM                Jupyter                                                                \r\n",
       "d-----        6/28/2017   1:03 AM                Output                                                                 \r\n",
       "d-----        6/27/2017  11:54 PM                PowerShell-Kernel                                                      \r\n",
       "-a----        6/16/2017  11:57 PM           2581 .gitattributes                                                         \r\n",
       "-a----        6/28/2017   1:04 AM           4597 .gitignore                                                             \r\n",
       "-a----        6/27/2017  10:25 PM           5592 Install.ps1                                                            \r\n",
       "-a----        6/27/2017   9:38 PM           1903 Jupyter-PowerShell.sln                                                 \r\n",
       "-a----        6/26/2017   1:54 PM            289 kernel.json                                                            \r\n",
       "-a----        6/24/2017   3:07 AM           1140 LICENSE.md                                                             \r\n",
       "-a----        6/27/2017   9:37 PM          17997 ReadMe.ipynb                                                           \r\n",
       "-a----        6/27/2017   1:30 AM           2053 ReadMe.md"
      ]
     },
     "execution_count": 2,
     "metadata": {},
     "output_type": "execute_result"
    }
   ],
   "source": [
    "Get-ChildItem"
   ]
  },
  {
   "cell_type": "code",
   "execution_count": 3,
   "metadata": {
    "collapsed": true
   },
   "outputs": [],
   "source": [
    "$Files = Get-ChildItem -File"
   ]
  },
  {
   "cell_type": "markdown",
   "metadata": {},
   "source": [
    "## No Output.\n",
    "\n",
    "Obviously there's no output from that command, because it's all collected in the variable.\n",
    "\n",
    "I put that here was just to demonstrate that variables stick around so you can use them in other commands in the future, so let's look at the size of those files again:"
   ]
  },
  {
   "cell_type": "code",
   "execution_count": 4,
   "metadata": {},
   "outputs": [
    {
     "data": {
      "application/json": {
       "output": [
        {
         "Average": null,
         "Count": 8,
         "Maximum": null,
         "Minimum": null,
         "Property": "Length",
         "Sum": 36152
        }
       ]
      },
      "text/plain": [
       "Count    : 8\r\n",
       "Average  : \r\n",
       "Sum      : 36152\r\n",
       "Maximum  : \r\n",
       "Minimum  : \r\n",
       "Property : Length"
      ]
     },
     "execution_count": 4,
     "metadata": {},
     "output_type": "execute_result"
    }
   ],
   "source": [
    "$Files | Measure Length -Sum"
   ]
  },
  {
   "cell_type": "code",
   "execution_count": 5,
   "metadata": {
    "collapsed": true
   },
   "outputs": [],
   "source": [
    "Set-Location PowerShell-Kernel"
   ]
  },
  {
   "cell_type": "markdown",
   "metadata": {},
   "source": [
    "Again, any command with no output just has ... no output.\n",
    "\n",
    "### But it affects the state.\n",
    "\n",
    "This means you will be able to use this for literate devops...\n",
    "\n",
    "Oh, and since I mentioned you can do HTML output, here's PowerShell's built-in ConvertTo-Html"
   ]
  },
  {
   "cell_type": "code",
   "execution_count": 6,
   "metadata": {
    "scrolled": true
   },
   "outputs": [
    {
     "data": {
      "application/json": {
       "output": [
        "<!DOCTYPE html PUBLIC \"-//W3C//DTD XHTML 1.0 Strict//EN\"  \"http://www.w3.org/TR/xhtml1/DTD/xhtml1-strict.dtd\">",
        "<html xmlns=\"http://www.w3.org/1999/xhtml\">",
        "<head>",
        "<title>HTML TABLE</title>",
        "</head><body>",
        "<table>",
        "<colgroup><col/><col/><col/><col/></colgroup>",
        "<tr><th>Mode</th><th>LastWriteTime</th><th>Name</th><th>Length</th></tr>",
        "<tr><td>-a----</td><td>6/26/2017 10:42:55 PM</td><td>ExecutionResult.cs</td><td>1396</td></tr>",
        "<tr><td>-a----</td><td>6/27/2017 9:49:05 PM</td><td>Kernel.cs</td><td>1306</td></tr>",
        "<tr><td>-a----</td><td>6/27/2017 11:55:06 PM</td><td>PowerShell-Kernel.csproj</td><td>2398</td></tr>",
        "<tr><td>-a----</td><td>6/27/2017 8:32:31 PM</td><td>PowerShellEngine.cs</td><td>7293</td></tr>",
        "<tr><td>-a----</td><td>6/26/2017 1:54:08 PM</td><td>ScalarHelper.cs</td><td>2624</td></tr>",
        "</table>",
        "</body></html>"
       ]
      },
      "text/html": [
       "<!DOCTYPE html PUBLIC \"-//W3C//DTD XHTML 1.0 Strict//EN\"  \"http://www.w3.org/TR/xhtml1/DTD/xhtml1-strict.dtd\">\r\n",
       "<html xmlns=\"http://www.w3.org/1999/xhtml\">\r\n",
       "<head>\r\n",
       "<title>HTML TABLE</title>\r\n",
       "</head><body>\r\n",
       "<table>\r\n",
       "<colgroup><col/><col/><col/><col/></colgroup>\r\n",
       "<tr><th>Mode</th><th>LastWriteTime</th><th>Name</th><th>Length</th></tr>\r\n",
       "<tr><td>-a----</td><td>6/26/2017 10:42:55 PM</td><td>ExecutionResult.cs</td><td>1396</td></tr>\r\n",
       "<tr><td>-a----</td><td>6/27/2017 9:49:05 PM</td><td>Kernel.cs</td><td>1306</td></tr>\r\n",
       "<tr><td>-a----</td><td>6/27/2017 11:55:06 PM</td><td>PowerShell-Kernel.csproj</td><td>2398</td></tr>\r\n",
       "<tr><td>-a----</td><td>6/27/2017 8:32:31 PM</td><td>PowerShellEngine.cs</td><td>7293</td></tr>\r\n",
       "<tr><td>-a----</td><td>6/26/2017 1:54:08 PM</td><td>ScalarHelper.cs</td><td>2624</td></tr>\r\n",
       "</table>\r\n",
       "</body></html>"
      ],
      "text/plain": [
       "<!DOCTYPE html PUBLIC \"-//W3C//DTD XHTML 1.0 Strict//EN\"  \"http://www.w3.org/TR/xhtml1/DTD/xhtml1-strict.dtd\">\r\n",
       "<html xmlns=\"http://www.w3.org/1999/xhtml\">\r\n",
       "<head>\r\n",
       "<title>HTML TABLE</title>\r\n",
       "</head><body>\r\n",
       "<table>\r\n",
       "<colgroup><col/><col/><col/><col/></colgroup>\r\n",
       "<tr><th>Mode</th><th>LastWriteTime</th><th>Name</th><th>Length</th></tr>\r\n",
       "<tr><td>-a----</td><td>6/26/2017 10:42:55 PM</td><td>ExecutionResult.cs</td><td>1396</td></tr>\r\n",
       "<tr><td>-a----</td><td>6/27/2017 9:49:05 PM</td><td>Kernel.cs</td><td>1306</td></tr>\r\n",
       "<tr><td>-a----</td><td>6/27/2017 11:55:06 PM</td><td>PowerShell-Kernel.csproj</td><td>2398</td></tr>\r\n",
       "<tr><td>-a----</td><td>6/27/2017 8:32:31 PM</td><td>PowerShellEngine.cs</td><td>7293</td></tr>\r\n",
       "<tr><td>-a----</td><td>6/26/2017 1:54:08 PM</td><td>ScalarHelper.cs</td><td>2624</td></tr>\r\n",
       "</table>\r\n",
       "</body></html>"
      ]
     },
     "execution_count": 6,
     "metadata": {},
     "output_type": "execute_result"
    }
   ],
   "source": [
    "Get-ChildItem -file | ConvertTo-Html Mode, LastWriteTime, Name, Length"
   ]
  },
  {
   "cell_type": "code",
   "execution_count": 7,
   "metadata": {},
   "outputs": [
    {
     "data": {
      "application/json": {
       "output": [
        "<img src='https://upload.wikimedia.org/wikipedia/commons/2/2f/PowerShell_5.0_icon.png' />"
       ]
      },
      "text/html": [
       "<img src='https://upload.wikimedia.org/wikipedia/commons/2/2f/PowerShell_5.0_icon.png' />"
      ],
      "text/plain": [
       "<img src='https://upload.wikimedia.org/wikipedia/commons/2/2f/PowerShell_5.0_icon.png' />"
      ]
     },
     "execution_count": 7,
     "metadata": {},
     "output_type": "execute_result"
    }
   ],
   "source": [
    "\"<img src='https://upload.wikimedia.org/wikipedia/commons/2/2f/PowerShell_5.0_icon.png' />\""
   ]
  },
  {
   "cell_type": "markdown",
   "metadata": {},
   "source": [
    "### I fixed [3](https://github.com/Jaykul/Jupyter-PowerShell/issues/3) so errors show up:"
   ]
  },
  {
   "cell_type": "code",
   "execution_count": 8,
   "metadata": {
    "scrolled": true
   },
   "outputs": [
    {
     "ename": "PathNotFound,Microsoft.PowerShell.Commands.GetChildItemCommand",
     "evalue": "Get-ChildItem : Cannot find path 'C:\\Users\\Joel\\Projects\\Jupyter\\Jupyter-PowerShell\\PowerShell-Kernel\\nosuchfile' because it does not exist.\nAt line:1 char:1\r\n+ Get-ChildItem nosuchfile\r\n+ ~~~~~~~~~~~~~~~~~~~~~~~~\n    + CategoryInfo          : ObjectNotFound: (C:\\Users\\Joel\\P...rnel\\nosuchfile:String) [Get-ChildItem], ItemNotFoundException\n    + FullyQualifiedErrorId : PathNotFound,Microsoft.PowerShell.Commands.GetChildItemCommand",
     "output_type": "error",
     "traceback": [
      "At line:1 char:1\r\n+ Get-ChildItem nosuchfile\r\n+ ~~~~~~~~~~~~~~~~~~~~~~~~"
     ]
    },
    {
     "name": "stderr",
     "output_type": "stream",
     "text": [
      "Get-ChildItem : Cannot find path 'C:\\Users\\Joel\\Projects\\Jupyter\\Jupyter-PowerShell\\PowerShell-Kernel\\nosuchfile' because it does not exist.\n",
      "At line:1 char:1\r\n",
      "+ Get-ChildItem nosuchfile\r\n",
      "+ ~~~~~~~~~~~~~~~~~~~~~~~~\n",
      "    + CategoryInfo          : ObjectNotFound: (C:\\Users\\Joel\\P...rnel\\nosuchfile:String) [Get-ChildItem], ItemNotFoundException\n",
      "    + FullyQualifiedErrorId : PathNotFound,Microsoft.PowerShell.Commands.GetChildItemCommand"
     ]
    }
   ],
   "source": [
    "Get-ChildItem nosuchfile"
   ]
  }
 ],
 "metadata": {
  "anaconda-cloud": {},
  "kernelspec": {
   "display_name": "PowerShell (Core)",
   "language": "PowerShell",
   "name": "powershell-core"
  },
  "language_info": {
   "codemirror_mode": "powershell",
   "file_extension": ".ps1",
   "mimetype": "text/powershell",
   "name": "PowerShell",
   "nbconvert_exporter": null,
   "pygments_lexer": "powershell",
   "version": "5.0"
  }
 },
 "nbformat": 4,
 "nbformat_minor": 1
}
