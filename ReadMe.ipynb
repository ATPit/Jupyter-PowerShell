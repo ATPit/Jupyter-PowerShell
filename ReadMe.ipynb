{
 "cells": [
  {
   "cell_type": "markdown",
   "metadata": {},
   "source": [
    "# A [Jupyter](https://jupyter.org/) Kernel for [PowerShell](https://github.com/PowerShell/PowerShell)\n",
    "\n",
    "This kernel is being written in C#, and in the process, I've taken some messaging code from the [iCSharp kernel](https://github.com/zabirauf/icsharp) and made a generic library for .Net with a re-usable core for anyone who needs to create [Jupyter](https://jupyter.org/) kernels in .Net languages -- so feel free to borrow that if you like (it's under the Apache license).\n",
    "\n",
    "## Current Status\n",
    "\n",
    "At this point, I'm only handling two messages:\n",
    "\n",
    "* KernelInfo request\n",
    "* Execute request\n",
    "\n",
    "The PowerShell kernel is therefore _working_, and returning simple text output as on the console (see examples below).\n",
    "\n",
    "### NO ERROR OUTPUT\n",
    "\n",
    "I am doing something wrong in the way I'm sending error output back, so there's currently [no output when there are errors](https://github.com/Jaykul/Jupyter-PowerShell/issues/3). That's my number one priority to fix, if anyone knows what I'm doing wrong -- I'll get to it tonight, otherwise."
   ]
  },
  {
   "cell_type": "markdown",
   "metadata": {},
   "source": [
    "## Features\n",
    "\n",
    "Apart from the built-in Jupyter features, I'm going to add some output enhancements so you can hook into widgets, etc. However, there's none of thata yet, except that:\n",
    "\n",
    "* If you output HTML, it's rendered. I'm currently detecting this in the most simplistic fashion: by testing if the output starts with \"<\" and ends with \">\". That probably needs work, but it's good enough for now.\n",
    "* When a command outputs objects, you get the text rendering, but the actual objects are also returned as application/json data."
   ]
  },
  {
   "cell_type": "markdown",
   "metadata": {},
   "source": [
    "## PowerShell Core\n",
    "\n",
    "In order to get cross-platform support, this kernel is using [PowerShell Core](https://github.com/PowerShell/PowerShell), which means you'll want to have PowerShell 6 Beta 3 installed to try it out. I'm hoping to provide a Full Framework (aka Windows PowerShell) version too, once I start doing releases.\n",
    "\n",
    "To use it or build it, you need [dotnet core 2 preview](https://www.microsoft.com/net/core/preview), and if you want to contribute, and want to build it in Visual Studio, you need [VS 2017 Preview version 15.3](https://www.visualstudio.com/vs/preview/)."
   ]
  },
  {
   "cell_type": "code",
   "execution_count": 1,
   "metadata": {},
   "outputs": [
    {
     "data": {
      "application/json": {
       "output": [
        {
         "GitCommitId": "Could not find file 'C:\\Users\\Joel\\.nuget\\packages\\system.management.automation\\6.0.0-beta.3\\lib\\netcoreapp2.0\\powershell.version'.",
         "OS": "Microsoft Windows 10.0.16215 ",
         "PSCompatibleVersions": [
          {
           "Build": -1,
           "Major": 1,
           "MajorRevision": -1,
           "Minor": 0,
           "MinorRevision": -1,
           "Revision": -1
          },
          {
           "Build": -1,
           "Major": 2,
           "MajorRevision": -1,
           "Minor": 0,
           "MinorRevision": -1,
           "Revision": -1
          },
          {
           "Build": -1,
           "Major": 3,
           "MajorRevision": -1,
           "Minor": 0,
           "MinorRevision": -1,
           "Revision": -1
          },
          {
           "Build": -1,
           "Major": 4,
           "MajorRevision": -1,
           "Minor": 0,
           "MinorRevision": -1,
           "Revision": -1
          },
          {
           "Build": -1,
           "Major": 5,
           "MajorRevision": -1,
           "Minor": 0,
           "MinorRevision": -1,
           "Revision": -1
          },
          {
           "Build": 10032,
           "Major": 5,
           "MajorRevision": 0,
           "Minor": 1,
           "MinorRevision": 0,
           "Revision": 0
          },
          {
           "Build": 0,
           "Major": 6,
           "MajorRevision": -1,
           "Minor": 0,
           "MinorRevision": -1,
           "Revision": -1
          }
         ],
         "PSEdition": "Core",
         "PSRemotingProtocolVersion": {
          "Build": -1,
          "Major": 2,
          "MajorRevision": -1,
          "Minor": 3,
          "MinorRevision": -1,
          "Revision": -1
         },
         "PSVersion": {
          "Label": "beta",
          "Major": 6,
          "Minor": 0,
          "Patch": 0
         },
         "Platform": "Win32NT",
         "SerializationVersion": {
          "Build": 0,
          "Major": 1,
          "MajorRevision": 0,
          "Minor": 1,
          "MinorRevision": 1,
          "Revision": 1
         },
         "WSManStackVersion": {
          "Build": -1,
          "Major": 3,
          "MajorRevision": -1,
          "Minor": 0,
          "MinorRevision": -1,
          "Revision": -1
         }
        }
       ]
      },
      "text/plain": [
       "Name                           Value                                                                                    \r\n",
       "----                           -----                                                                                    \r\n",
       "PSVersion                      6.0.0-beta                                                                               \r\n",
       "PSEdition                      Core                                                                                     \r\n",
       "GitCommitId                    Could not find file 'C:\\Users\\Joel\\.nuget\\packages\\system.management.automation\\6.0.0-...\r\n",
       "OS                             Microsoft Windows 10.0.16215                                                             \r\n",
       "Platform                       Win32NT                                                                                  \r\n",
       "PSCompatibleVersions           {1.0, 2.0, 3.0, 4.0...}                                                                  \r\n",
       "PSRemotingProtocolVersion      2.3                                                                                      \r\n",
       "SerializationVersion           1.1.0.1                                                                                  \r\n",
       "WSManStackVersion              3.0"
      ]
     },
     "execution_count": 1,
     "metadata": {},
     "output_type": "execute_result"
    }
   ],
   "source": [
    "$PSVersionTable"
   ]
  },
  {
   "cell_type": "code",
   "execution_count": 2,
   "metadata": {},
   "outputs": [
    {
     "data": {
      "application/json": {
       "output": [
        {
         "FullPath": "C:\\Users\\Joel\\Projects\\Jupyter\\Jupyter-PowerShell\\.ipynb_checkpoints",
         "OriginalPath": ".ipynb_checkpoints"
        },
        {
         "FullPath": "C:\\Users\\Joel\\Projects\\Jupyter\\Jupyter-PowerShell\\Jupyter",
         "OriginalPath": "Jupyter"
        },
        {
         "FullPath": "C:\\Users\\Joel\\Projects\\Jupyter\\Jupyter-PowerShell\\PowerShell-Kernel",
         "OriginalPath": "PowerShell-Kernel"
        },
        {
         "FullPath": "C:\\Users\\Joel\\Projects\\Jupyter\\Jupyter-PowerShell\\.gitattributes",
         "OriginalPath": ".gitattributes"
        },
        {
         "FullPath": "C:\\Users\\Joel\\Projects\\Jupyter\\Jupyter-PowerShell\\.gitignore",
         "OriginalPath": ".gitignore"
        },
        {
         "FullPath": "C:\\Users\\Joel\\Projects\\Jupyter\\Jupyter-PowerShell\\Jupyter-PowerShell.sln",
         "OriginalPath": "Jupyter-PowerShell.sln"
        },
        {
         "FullPath": "C:\\Users\\Joel\\Projects\\Jupyter\\Jupyter-PowerShell\\kernel.json",
         "OriginalPath": "kernel.json"
        },
        {
         "FullPath": "C:\\Users\\Joel\\Projects\\Jupyter\\Jupyter-PowerShell\\LICENSE.md",
         "OriginalPath": "LICENSE.md"
        },
        {
         "FullPath": "C:\\Users\\Joel\\Projects\\Jupyter\\Jupyter-PowerShell\\ReadMe.ipynb",
         "OriginalPath": "ReadMe.ipynb"
        },
        {
         "FullPath": "C:\\Users\\Joel\\Projects\\Jupyter\\Jupyter-PowerShell\\ReadMe.md",
         "OriginalPath": "ReadMe.md"
        }
       ]
      },
      "text/plain": [
       "Directory: C:\\Users\\Joel\\Projects\\Jupyter\\Jupyter-PowerShell\r\n",
       "\r\n",
       "\r\n",
       "Mode                LastWriteTime         Length Name                                                                   \r\n",
       "----                -------------         ------ ----                                                                   \r\n",
       "d-----        6/25/2017   1:50 AM                .ipynb_checkpoints                                                     \r\n",
       "d-----        6/24/2017  12:35 AM                Jupyter                                                                \r\n",
       "d-----        6/26/2017   1:33 PM                PowerShell-Kernel                                                      \r\n",
       "-a----        6/16/2017  11:57 PM           2581 .gitattributes                                                         \r\n",
       "-a----        6/25/2017   1:54 AM           4588 .gitignore                                                             \r\n",
       "-a----        6/26/2017   1:08 PM           1874 Jupyter-PowerShell.sln                                                 \r\n",
       "-a----        6/26/2017  11:43 AM            289 kernel.json                                                            \r\n",
       "-a----        6/24/2017   3:07 AM           1140 LICENSE.md                                                             \r\n",
       "-a----        6/26/2017   1:44 PM          15114 ReadMe.ipynb                                                           \r\n",
       "-a----        6/25/2017   1:52 AM            973 ReadMe.md"
      ]
     },
     "execution_count": 2,
     "metadata": {},
     "output_type": "execute_result"
    }
   ],
   "source": [
    "Get-ChildItem"
   ]
  },
  {
   "cell_type": "code",
   "execution_count": 3,
   "metadata": {
    "collapsed": true
   },
   "outputs": [],
   "source": [
    "$Files = Get-ChildItem -File"
   ]
  },
  {
   "cell_type": "markdown",
   "metadata": {},
   "source": [
    "## No Output.\n",
    "\n",
    "Obviously there's no output from that command, because it's all collected in the variable.\n",
    "\n",
    "I put that here was just to demonstrate that variables stick around so you can use them in other commands in the future, so let's look at the size of those files again:"
   ]
  },
  {
   "cell_type": "code",
   "execution_count": 4,
   "metadata": {},
   "outputs": [
    {
     "data": {
      "application/json": {
       "output": [
        {
         "Average": null,
         "Count": 7,
         "Maximum": null,
         "Minimum": null,
         "Property": "Length",
         "Sum": 26559
        }
       ]
      },
      "text/plain": [
       "Count    : 7\r\n",
       "Average  : \r\n",
       "Sum      : 26559\r\n",
       "Maximum  : \r\n",
       "Minimum  : \r\n",
       "Property : Length"
      ]
     },
     "execution_count": 4,
     "metadata": {},
     "output_type": "execute_result"
    }
   ],
   "source": [
    "$Files | Measure Length -Sum"
   ]
  },
  {
   "cell_type": "code",
   "execution_count": 7,
   "metadata": {
    "collapsed": true
   },
   "outputs": [],
   "source": [
    "Set-Location PowerShell-Kernel"
   ]
  },
  {
   "cell_type": "markdown",
   "metadata": {},
   "source": [
    "Again, any command with no output just has ... no output.\n",
    "\n",
    "### But it affects the state.\n",
    "\n",
    "This means you will be able to use this for literate devops...\n",
    "\n",
    "Oh, and since I mentioned you can do HTML output, here's PowerShell's built-in ConvertTo-Html"
   ]
  },
  {
   "cell_type": "code",
   "execution_count": 9,
   "metadata": {},
   "outputs": [
    {
     "data": {
      "application/json": {
       "output": [
        "<!DOCTYPE html PUBLIC \"-//W3C//DTD XHTML 1.0 Strict//EN\"  \"http://www.w3.org/TR/xhtml1/DTD/xhtml1-strict.dtd\">",
        "<html xmlns=\"http://www.w3.org/1999/xhtml\">",
        "<head>",
        "<title>HTML TABLE</title>",
        "</head><body>",
        "<table>",
        "<colgroup><col/><col/><col/><col/></colgroup>",
        "<tr><th>Mode</th><th>LastWriteTime</th><th>Name</th><th>Length</th></tr>",
        "<tr><td>-a----</td><td>6/26/2017 1:33:46 PM</td><td>ExecutionResult.cs</td><td>1235</td></tr>",
        "<tr><td>-a----</td><td>6/26/2017 1:17:48 PM</td><td>PowerShellEngine.cs</td><td>6071</td></tr>",
        "<tr><td>-a----</td><td>6/26/2017 11:32:17 AM</td><td>PowerShell-Kernel.csproj</td><td>1214</td></tr>",
        "<tr><td>-a----</td><td>6/25/2017 12:19:58 AM</td><td>Program.cs</td><td>1293</td></tr>",
        "<tr><td>-a----</td><td>6/26/2017 2:17:22 AM</td><td>ScalarHelper.cs</td><td>2624</td></tr>",
        "</table>",
        "</body></html>"
       ]
      },
      "text/html": [
       "<!DOCTYPE html PUBLIC \"-//W3C//DTD XHTML 1.0 Strict//EN\"  \"http://www.w3.org/TR/xhtml1/DTD/xhtml1-strict.dtd\">\r\n",
       "<html xmlns=\"http://www.w3.org/1999/xhtml\">\r\n",
       "<head>\r\n",
       "<title>HTML TABLE</title>\r\n",
       "</head><body>\r\n",
       "<table>\r\n",
       "<colgroup><col/><col/><col/><col/></colgroup>\r\n",
       "<tr><th>Mode</th><th>LastWriteTime</th><th>Name</th><th>Length</th></tr>\r\n",
       "<tr><td>-a----</td><td>6/26/2017 1:33:46 PM</td><td>ExecutionResult.cs</td><td>1235</td></tr>\r\n",
       "<tr><td>-a----</td><td>6/26/2017 1:17:48 PM</td><td>PowerShellEngine.cs</td><td>6071</td></tr>\r\n",
       "<tr><td>-a----</td><td>6/26/2017 11:32:17 AM</td><td>PowerShell-Kernel.csproj</td><td>1214</td></tr>\r\n",
       "<tr><td>-a----</td><td>6/25/2017 12:19:58 AM</td><td>Program.cs</td><td>1293</td></tr>\r\n",
       "<tr><td>-a----</td><td>6/26/2017 2:17:22 AM</td><td>ScalarHelper.cs</td><td>2624</td></tr>\r\n",
       "</table>\r\n",
       "</body></html>"
      ],
      "text/plain": [
       "<!DOCTYPE html PUBLIC \"-//W3C//DTD XHTML 1.0 Strict//EN\"  \"http://www.w3.org/TR/xhtml1/DTD/xhtml1-strict.dtd\">\r\n",
       "<html xmlns=\"http://www.w3.org/1999/xhtml\">\r\n",
       "<head>\r\n",
       "<title>HTML TABLE</title>\r\n",
       "</head><body>\r\n",
       "<table>\r\n",
       "<colgroup><col/><col/><col/><col/></colgroup>\r\n",
       "<tr><th>Mode</th><th>LastWriteTime</th><th>Name</th><th>Length</th></tr>\r\n",
       "<tr><td>-a----</td><td>6/26/2017 1:33:46 PM</td><td>ExecutionResult.cs</td><td>1235</td></tr>\r\n",
       "<tr><td>-a----</td><td>6/26/2017 1:17:48 PM</td><td>PowerShellEngine.cs</td><td>6071</td></tr>\r\n",
       "<tr><td>-a----</td><td>6/26/2017 11:32:17 AM</td><td>PowerShell-Kernel.csproj</td><td>1214</td></tr>\r\n",
       "<tr><td>-a----</td><td>6/25/2017 12:19:58 AM</td><td>Program.cs</td><td>1293</td></tr>\r\n",
       "<tr><td>-a----</td><td>6/26/2017 2:17:22 AM</td><td>ScalarHelper.cs</td><td>2624</td></tr>\r\n",
       "</table>\r\n",
       "</body></html>"
      ]
     },
     "execution_count": 9,
     "metadata": {},
     "output_type": "execute_result"
    }
   ],
   "source": [
    "Get-ChildItem -file | ConvertTo-Html Mode, LastWriteTime, Name, Length"
   ]
  }
 ],
 "metadata": {
  "anaconda-cloud": {},
  "kernelspec": {
   "display_name": "PowerShell (Core)",
   "language": "PowerShell",
   "name": "ipowershell"
  },
  "language_info": {
   "codemirror_mode": "powershell",
   "file_extension": ".ps1",
   "mimetype": "text/powershell",
   "name": "PowerShell",
   "nbconvert_exporter": null,
   "pygments_lexer": "powershell",
   "version": "5.0"
  }
 },
 "nbformat": 4,
 "nbformat_minor": 1
}
