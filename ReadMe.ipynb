{
 "cells": [
  {
   "cell_type": "markdown",
   "metadata": {},
   "source": [
    "## iPowerShell - a Jupyter Kernel for PowerShell\n",
    "\n",
    "I've finally got a working PowerShell Jupyter kernel! \n",
    "\n",
    "In the process, I've taken some messaging code from [zabirauf's iCSharp kernel](https://github.com/zabirauf/icsharp) and made a generic \"Jupyter .NET\" library to provide a re-usable core for creating Jupyter kernels in .Net languages -- so feel free to borrow that if you like (it's under the Apache license).\n",
    "\n",
    "## First Working Version\n",
    "\n",
    "At this point, I'm only handling two messages from Jupyter:\n",
    "\n",
    "* KernelInfo request\n",
    "* Execute request\n",
    "\n",
    "The PowerShell kernel is _working_ at this point, but I'm always returning text, json, and HTML output -- and Jupyter notebooks are smart enough to display the HTML output.  The problem is that PowerShell's `ConvertTo-Html` isn't smart enough to only show the default columns, and do reasonable things with numbers and strings -- so I have a bit of work to do yet.\n",
    "\n",
    "In any case, it's working, as you can see here:"
   ]
  },
  {
   "cell_type": "code",
   "execution_count": 1,
   "metadata": {},
   "outputs": [
    {
     "data": {
      "text/html": [
       "<table>\r\n",
       "<colgroup><col/><col/><col/><col/></colgroup>\r\n",
       "<tr><th>Mode</th><th>LastWriteTime</th><th>Length</th><th>Name</th></tr>\r\n",
       "<tr><td>d-----</td><td>6/25/2017 1:36:08 AM</td><td></td><td>.ipynb_checkpoints</td></tr>\r\n",
       "<tr><td>d-----</td><td>6/25/2017 1:25:59 AM</td><td></td><td>iPowerShell</td></tr>\r\n",
       "<tr><td>d-----</td><td>6/24/2017 12:35:47 AM</td><td></td><td>Jupyter</td></tr>\r\n",
       "<tr><td>-a----</td><td>6/16/2017 11:57:42 PM</td><td>2581</td><td>.gitattributes</td></tr>\r\n",
       "<tr><td>-a----</td><td>6/16/2017 11:57:42 PM</td><td>4565</td><td>.gitignore</td></tr>\r\n",
       "<tr><td>-a----</td><td>6/25/2017 1:45:00 AM</td><td>5546</td><td>Example.ipynb</td></tr>\r\n",
       "<tr><td>-a----</td><td>6/24/2017 3:09:24 AM</td><td>1734</td><td>iPowerShell.sln</td></tr>\r\n",
       "<tr><td>-a----</td><td>6/24/2017 3:07:27 AM</td><td>1140</td><td>LICENSE.md</td></tr>\r\n",
       "<tr><td>-a----</td><td>6/24/2017 3:06:18 AM</td><td>1165</td><td>ReadMe.md</td></tr>\r\n",
       "</table>"
      ],
      "text/plain": [
       "\r\n",
       "Mode   LastWriteTime         Length Name              \r\n",
       "----   -------------         ------ ----              \r\n",
       "d----- 6/25/2017 1:36:08 AM         .ipynb_checkpoints\r\n",
       "d----- 6/25/2017 1:25:59 AM         iPowerShell       \r\n",
       "d----- 6/24/2017 12:35:47 AM        Jupyter           \r\n",
       "-a---- 6/16/2017 11:57:42 PM 2581   .gitattributes    \r\n",
       "-a---- 6/16/2017 11:57:42 PM 4565   .gitignore        \r\n",
       "-a---- 6/25/2017 1:45:00 AM  5546   Example.ipynb     \r\n",
       "-a---- 6/24/2017 3:09:24 AM  1734   iPowerShell.sln   \r\n",
       "-a---- 6/24/2017 3:07:27 AM  1140   LICENSE.md        \r\n",
       "-a---- 6/24/2017 3:06:18 AM  1165   ReadMe.md         \r\n",
       "\r\n",
       "\r\n"
      ]
     },
     "execution_count": 1,
     "metadata": {},
     "output_type": "execute_result"
    }
   ],
   "source": [
    "Get-ChildItem | Select-Object Mode, LastWriteTime, Length, Name"
   ]
  },
  {
   "cell_type": "code",
   "execution_count": 2,
   "metadata": {
    "collapsed": true
   },
   "outputs": [],
   "source": [
    "$Files = Get-ChildItem -File"
   ]
  },
  {
   "cell_type": "markdown",
   "metadata": {},
   "source": [
    "## No Output.\n",
    "\n",
    "Obviously there's no output from that command, because it's all collected in the variable.\n",
    "\n",
    "However, the reason I put that here was just to demonstrate that variables stick around so you can use them in other commands in the future, so let's look at the size of those files again:"
   ]
  },
  {
   "cell_type": "code",
   "execution_count": 3,
   "metadata": {},
   "outputs": [
    {
     "data": {
      "text/html": [
       "<table>\r\n",
       "<colgroup><col/><col/><col/><col/><col/><col/></colgroup>\r\n",
       "<tr><th>Count</th><th>Average</th><th>Sum</th><th>Maximum</th><th>Minimum</th><th>Property</th></tr>\r\n",
       "<tr><td>6</td><td></td><td>16731</td><td></td><td></td><td>Length</td></tr>\r\n",
       "</table>"
      ],
      "text/plain": [
       "\r\n",
       "\r\n",
       "Count    : 6\r\n",
       "Average  : \r\n",
       "Sum      : 16731\r\n",
       "Maximum  : \r\n",
       "Minimum  : \r\n",
       "Property : Length\r\n",
       "\r\n",
       "\r\n",
       "\r\n"
      ]
     },
     "execution_count": 3,
     "metadata": {},
     "output_type": "execute_result"
    }
   ],
   "source": [
    "$Files | Measure Length -Sum"
   ]
  },
  {
   "cell_type": "code",
   "execution_count": 4,
   "metadata": {
    "collapsed": true
   },
   "outputs": [],
   "source": [
    "Set-Location iPowerShell"
   ]
  },
  {
   "cell_type": "markdown",
   "metadata": {},
   "source": [
    "Again, any command with no output just has ... no output.\n",
    "\n",
    "### But it affects the state.\n",
    "\n",
    "This means you will be able to use this for literate devops, once I do a little more work on the output.\n",
    "\n",
    "Just so you can see what I mean about needing a little more work, here's what you get when you don't `Select` just a few properties from `Get-ChildItem`:"
   ]
  },
  {
   "cell_type": "code",
   "execution_count": 5,
   "metadata": {},
   "outputs": [
    {
     "data": {
      "text/html": [
       "<table>\r\n",
       "<colgroup><col/><col/><col/><col/><col/><col/><col/><col/><col/><col/><col/><col/><col/><col/><col/><col/><col/><col/><col/><col/><col/><col/><col/></colgroup>\r\n",
       "<tr><th>PSPath</th><th>PSParentPath</th><th>PSChildName</th><th>PSDrive</th><th>PSProvider</th><th>PSIsContainer</th><th>Mode</th><th>BaseName</th><th>Target</th><th>LinkType</th><th>Name</th><th>Parent</th><th>Exists</th><th>Root</th><th>FullName</th><th>Extension</th><th>CreationTime</th><th>CreationTimeUtc</th><th>LastAccessTime</th><th>LastAccessTimeUtc</th><th>LastWriteTime</th><th>LastWriteTimeUtc</th><th>Attributes</th></tr>\r\n",
       "<tr><td>Microsoft.PowerShell.Core\\FileSystem::C:\\Users\\Joel\\Projects\\Jupyter\\iPowerShell\\iPowerShell\\.ipynb_checkpoints</td><td>Microsoft.PowerShell.Core\\FileSystem::C:\\Users\\Joel\\Projects\\Jupyter\\iPowerShell\\iPowerShell</td><td>.ipynb_checkpoints</td><td>C</td><td>Microsoft.PowerShell.Core\\FileSystem</td><td>True</td><td>d-----</td><td>.ipynb_checkpoints</td><td>System.Collections.Generic.List`1[System.String]</td><td></td><td>.ipynb_checkpoints</td><td>iPowerShell</td><td>True</td><td>C:\\</td><td>C:\\Users\\Joel\\Projects\\Jupyter\\iPowerShell\\iPowerShell\\.ipynb_checkpoints</td><td>.ipynb_checkpoints</td><td>6/23/2017 12:54:14 AM</td><td>6/23/2017 4:54:14 AM</td><td>6/23/2017 12:56:25 AM</td><td>6/23/2017 4:56:25 AM</td><td>6/23/2017 12:56:25 AM</td><td>6/23/2017 4:56:25 AM</td><td>Directory</td></tr>\r\n",
       "<tr><td>Microsoft.PowerShell.Core\\FileSystem::C:\\Users\\Joel\\Projects\\Jupyter\\iPowerShell\\iPowerShell\\bin</td><td>Microsoft.PowerShell.Core\\FileSystem::C:\\Users\\Joel\\Projects\\Jupyter\\iPowerShell\\iPowerShell</td><td>bin</td><td>C</td><td>Microsoft.PowerShell.Core\\FileSystem</td><td>True</td><td>d-----</td><td>bin</td><td>System.Collections.Generic.List`1[System.String]</td><td></td><td>bin</td><td>iPowerShell</td><td>True</td><td>C:\\</td><td>C:\\Users\\Joel\\Projects\\Jupyter\\iPowerShell\\iPowerShell\\bin</td><td></td><td>6/16/2017 11:57:48 PM</td><td>6/17/2017 3:57:48 AM</td><td>6/16/2017 11:57:48 PM</td><td>6/17/2017 3:57:48 AM</td><td>6/16/2017 11:57:48 PM</td><td>6/17/2017 3:57:48 AM</td><td>Directory</td></tr>\r\n",
       "<tr><td>Microsoft.PowerShell.Core\\FileSystem::C:\\Users\\Joel\\Projects\\Jupyter\\iPowerShell\\iPowerShell\\obj</td><td>Microsoft.PowerShell.Core\\FileSystem::C:\\Users\\Joel\\Projects\\Jupyter\\iPowerShell\\iPowerShell</td><td>obj</td><td>C</td><td>Microsoft.PowerShell.Core\\FileSystem</td><td>True</td><td>d-----</td><td>obj</td><td>System.Collections.Generic.List`1[System.String]</td><td></td><td>obj</td><td>iPowerShell</td><td>True</td><td>C:\\</td><td>C:\\Users\\Joel\\Projects\\Jupyter\\iPowerShell\\iPowerShell\\obj</td><td></td><td>6/16/2017 11:57:48 PM</td><td>6/17/2017 3:57:48 AM</td><td>6/25/2017 12:31:02 AM</td><td>6/25/2017 4:31:02 AM</td><td>6/25/2017 12:31:02 AM</td><td>6/25/2017 4:31:02 AM</td><td>Directory</td></tr>\r\n",
       "<tr><td>Microsoft.PowerShell.Core\\FileSystem::C:\\Users\\Joel\\Projects\\Jupyter\\iPowerShell\\iPowerShell\\ExecutionResult.cs</td><td>Microsoft.PowerShell.Core\\FileSystem::C:\\Users\\Joel\\Projects\\Jupyter\\iPowerShell\\iPowerShell</td><td>ExecutionResult.cs</td><td>C</td><td>Microsoft.PowerShell.Core\\FileSystem</td><td>False</td><td>-a----</td><td>ExecutionResult</td><td>System.Collections.Generic.List`1[System.String]</td><td></td><td>ExecutionResult.cs</td><td></td><td>True</td><td></td><td>C:\\Users\\Joel\\Projects\\Jupyter\\iPowerShell\\iPowerShell\\ExecutionResult.cs</td><td>.cs</td><td>6/24/2017 2:01:20 AM</td><td>6/24/2017 6:01:20 AM</td><td>6/25/2017 1:16:17 AM</td><td>6/25/2017 5:16:17 AM</td><td>6/25/2017 1:16:17 AM</td><td>6/25/2017 5:16:17 AM</td><td>Archive</td></tr>\r\n",
       "<tr><td>Microsoft.PowerShell.Core\\FileSystem::C:\\Users\\Joel\\Projects\\Jupyter\\iPowerShell\\iPowerShell\\iPowerShell.csproj</td><td>Microsoft.PowerShell.Core\\FileSystem::C:\\Users\\Joel\\Projects\\Jupyter\\iPowerShell\\iPowerShell</td><td>iPowerShell.csproj</td><td>C</td><td>Microsoft.PowerShell.Core\\FileSystem</td><td>False</td><td>-a----</td><td>iPowerShell</td><td>System.Collections.Generic.List`1[System.String]</td><td></td><td>iPowerShell.csproj</td><td></td><td>True</td><td></td><td>C:\\Users\\Joel\\Projects\\Jupyter\\iPowerShell\\iPowerShell\\iPowerShell.csproj</td><td>.csproj</td><td>6/16/2017 11:57:32 PM</td><td>6/17/2017 3:57:32 AM</td><td>6/16/2017 11:57:32 PM</td><td>6/17/2017 3:57:32 AM</td><td>6/25/2017 12:30:33 AM</td><td>6/25/2017 4:30:33 AM</td><td>Archive</td></tr>\r\n",
       "<tr><td>Microsoft.PowerShell.Core\\FileSystem::C:\\Users\\Joel\\Projects\\Jupyter\\iPowerShell\\iPowerShell\\kernel.json</td><td>Microsoft.PowerShell.Core\\FileSystem::C:\\Users\\Joel\\Projects\\Jupyter\\iPowerShell\\iPowerShell</td><td>kernel.json</td><td>C</td><td>Microsoft.PowerShell.Core\\FileSystem</td><td>False</td><td>-a----</td><td>kernel</td><td>System.Collections.Generic.List`1[System.String]</td><td></td><td>kernel.json</td><td></td><td>True</td><td></td><td>C:\\Users\\Joel\\Projects\\Jupyter\\iPowerShell\\iPowerShell\\kernel.json</td><td>.json</td><td>6/23/2017 12:47:26 AM</td><td>6/23/2017 4:47:26 AM</td><td>6/25/2017 12:20:17 AM</td><td>6/25/2017 4:20:17 AM</td><td>6/25/2017 12:20:17 AM</td><td>6/25/2017 4:20:17 AM</td><td>Archive</td></tr>\r\n",
       "<tr><td>Microsoft.PowerShell.Core\\FileSystem::C:\\Users\\Joel\\Projects\\Jupyter\\iPowerShell\\iPowerShell\\PowerShellEngine.cs</td><td>Microsoft.PowerShell.Core\\FileSystem::C:\\Users\\Joel\\Projects\\Jupyter\\iPowerShell\\iPowerShell</td><td>PowerShellEngine.cs</td><td>C</td><td>Microsoft.PowerShell.Core\\FileSystem</td><td>False</td><td>-a----</td><td>PowerShellEngine</td><td>System.Collections.Generic.List`1[System.String]</td><td></td><td>PowerShellEngine.cs</td><td></td><td>True</td><td></td><td>C:\\Users\\Joel\\Projects\\Jupyter\\iPowerShell\\iPowerShell\\PowerShellEngine.cs</td><td>.cs</td><td>6/22/2017 11:33:00 PM</td><td>6/23/2017 3:33:00 AM</td><td>6/25/2017 1:25:59 AM</td><td>6/25/2017 5:25:59 AM</td><td>6/25/2017 1:25:59 AM</td><td>6/25/2017 5:25:59 AM</td><td>Archive</td></tr>\r\n",
       "<tr><td>Microsoft.PowerShell.Core\\FileSystem::C:\\Users\\Joel\\Projects\\Jupyter\\iPowerShell\\iPowerShell\\Program.cs</td><td>Microsoft.PowerShell.Core\\FileSystem::C:\\Users\\Joel\\Projects\\Jupyter\\iPowerShell\\iPowerShell</td><td>Program.cs</td><td>C</td><td>Microsoft.PowerShell.Core\\FileSystem</td><td>False</td><td>-a----</td><td>Program</td><td>System.Collections.Generic.List`1[System.String]</td><td></td><td>Program.cs</td><td></td><td>True</td><td></td><td>C:\\Users\\Joel\\Projects\\Jupyter\\iPowerShell\\iPowerShell\\Program.cs</td><td>.cs</td><td>6/16/2017 11:57:32 PM</td><td>6/17/2017 3:57:32 AM</td><td>6/25/2017 12:19:58 AM</td><td>6/25/2017 4:19:58 AM</td><td>6/25/2017 12:19:58 AM</td><td>6/25/2017 4:19:58 AM</td><td>Archive</td></tr>\r\n",
       "</table>"
      ],
      "text/plain": [
       "\r\n",
       "\r\n",
       "    Directory: C:\\Users\\Joel\\Projects\\Jupyter\\iPowerShell\\iPowerShell\r\n",
       "\r\n",
       "\r\n",
       "Mode                LastWriteTime         Length Name                                                                   \r\n",
       "----                -------------         ------ ----                                                                   \r\n",
       "d-----        6/23/2017  12:56 AM                .ipynb_checkpoints                                                     \r\n",
       "d-----        6/16/2017  11:57 PM                bin                                                                    \r\n",
       "d-----        6/25/2017  12:31 AM                obj                                                                    \r\n",
       "-a----        6/25/2017   1:16 AM           1059 ExecutionResult.cs                                                     \r\n",
       "-a----        6/25/2017  12:30 AM           1207 iPowerShell.csproj                                                     \r\n",
       "-a----        6/25/2017  12:20 AM            264 kernel.json                                                            \r\n",
       "-a----        6/25/2017   1:25 AM           6034 PowerShellEngine.cs                                                    \r\n",
       "-a----        6/25/2017  12:19 AM           1293 Program.cs                                                             \r\n",
       "\r\n",
       "\r\n"
      ]
     },
     "execution_count": 5,
     "metadata": {},
     "output_type": "execute_result"
    }
   ],
   "source": [
    "Get-ChildItem"
   ]
  }
 ],
 "metadata": {
  "anaconda-cloud": {},
  "kernelspec": {
   "display_name": "iPowerShell",
   "language": "PowerShell",
   "name": "ipowershell"
  },
  "language_info": {
   "codemirror_mode": "powershell",
   "file_extension": ".ps1",
   "mimetype": "text/powershell",
   "name": "PowerShell",
   "nbconvert_exporter": null,
   "pygments_lexer": "powershell",
   "version": "5.0"
  }
 },
 "nbformat": 4,
 "nbformat_minor": 1
}
